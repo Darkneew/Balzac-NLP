{
 "cells": [
  {
   "cell_type": "markdown",
   "id": "fc7417c9",
   "metadata": {},
   "source": [
    "# Analyse de Balzac par NLP"
   ]
  },
  {
   "cell_type": "markdown",
   "id": "3ce76d0f",
   "metadata": {},
   "source": [
    "## Introduction au corpus"
   ]
  },
  {
   "cell_type": "markdown",
   "id": "59659174",
   "metadata": {},
   "source": [
    "On veut structurer nos textes de manière propre. Pour ce faire, on va utiliser un tableau panda"
   ]
  },
  {
   "cell_type": "code",
   "execution_count": 96,
   "id": "217cac6c",
   "metadata": {},
   "outputs": [],
   "source": [
    "import pandas as pd\n",
    "import numpy as np\n",
    "import os\n",
    "pd.options.display.float_format = \"{:,.2f}\".format\n",
    "nb = 3 + len(os.listdir(\"./sources/vie_parisienne/\"))\n",
    "texts = pd.DataFrame({\"title\":[\"empty\" for i in range(nb)], \"text\":[\"empty\" for i in range(nb)]})"
   ]
  },
  {
   "cell_type": "markdown",
   "id": "d5edd251",
   "metadata": {},
   "source": [
    "On définit ensuite comment importer un texte"
   ]
  },
  {
   "cell_type": "code",
   "execution_count": 35,
   "id": "e36c7a76",
   "metadata": {},
   "outputs": [],
   "source": [
    "def import_text(i, url):\n",
    "    f = open(url, \"r\", encoding=\"utf8\")\n",
    "    texts.loc[i] = [url.split(\"/\")[-1].split(\".txt\")[0], \" \".join(f.read().split(\"\\n\"))]\n",
    "    f.close()"
   ]
  },
  {
   "cell_type": "markdown",
   "id": "fc85ab20",
   "metadata": {},
   "source": [
    "Puis on importe tous les textes"
   ]
  },
  {
   "cell_type": "code",
   "execution_count": 36,
   "id": "5f5a10ac",
   "metadata": {},
   "outputs": [
    {
     "data": {
      "text/html": [
       "<div>\n",
       "<style scoped>\n",
       "    .dataframe tbody tr th:only-of-type {\n",
       "        vertical-align: middle;\n",
       "    }\n",
       "\n",
       "    .dataframe tbody tr th {\n",
       "        vertical-align: top;\n",
       "    }\n",
       "\n",
       "    .dataframe thead th {\n",
       "        text-align: right;\n",
       "    }\n",
       "</style>\n",
       "<table border=\"1\" class=\"dataframe\">\n",
       "  <thead>\n",
       "    <tr style=\"text-align: right;\">\n",
       "      <th></th>\n",
       "      <th>title</th>\n",
       "      <th>text</th>\n",
       "    </tr>\n",
       "  </thead>\n",
       "  <tbody>\n",
       "    <tr>\n",
       "      <th>0</th>\n",
       "      <td>EG</td>\n",
       "      <td>Il se trouve dans certaines provinces des mais...</td>\n",
       "    </tr>\n",
       "    <tr>\n",
       "      <th>1</th>\n",
       "      <td>UM</td>\n",
       "      <td>En entrant à Nemours du côté de Paris, on pass...</td>\n",
       "    </tr>\n",
       "    <tr>\n",
       "      <th>2</th>\n",
       "      <td>CeBi1</td>\n",
       "      <td>Durant les nuits d’hiver, le bruit ne cesse da...</td>\n",
       "    </tr>\n",
       "    <tr>\n",
       "      <th>3</th>\n",
       "      <td>CeBi2</td>\n",
       "      <td>Huit jours après cette fête, dernière flammèch...</td>\n",
       "    </tr>\n",
       "    <tr>\n",
       "      <th>4</th>\n",
       "      <td>CoBe1</td>\n",
       "      <td>Première partie Le père prodigue Vers le milie...</td>\n",
       "    </tr>\n",
       "    <tr>\n",
       "      <th>5</th>\n",
       "      <td>CoBe2</td>\n",
       "      <td>Quand, après avoir reconduit la baronne, Wence...</td>\n",
       "    </tr>\n",
       "    <tr>\n",
       "      <th>6</th>\n",
       "      <td>CP1</td>\n",
       "      <td>Vers trois heures de l’après-midi, dans le moi...</td>\n",
       "    </tr>\n",
       "    <tr>\n",
       "      <th>7</th>\n",
       "      <td>CP2</td>\n",
       "      <td>L’avilissement des mots est une de ces bizarre...</td>\n",
       "    </tr>\n",
       "    <tr>\n",
       "      <th>8</th>\n",
       "      <td>CS</td>\n",
       "      <td>Léon de Lora, notre célèbre peintre de paysage...</td>\n",
       "    </tr>\n",
       "    <tr>\n",
       "      <th>9</th>\n",
       "      <td>DL</td>\n",
       "      <td>Il existe dans une ville espagnole située sur ...</td>\n",
       "    </tr>\n",
       "    <tr>\n",
       "      <th>10</th>\n",
       "      <td>EHC</td>\n",
       "      <td>En 1836, par une belle soirée du mois de septe...</td>\n",
       "    </tr>\n",
       "    <tr>\n",
       "      <th>11</th>\n",
       "      <td>Em</td>\n",
       "      <td>À Paris, où les hommes d’étude et de pensée on...</td>\n",
       "    </tr>\n",
       "    <tr>\n",
       "      <th>12</th>\n",
       "      <td>FC</td>\n",
       "      <td>Je demeurais alors dans une petite rue que vou...</td>\n",
       "    </tr>\n",
       "    <tr>\n",
       "      <th>13</th>\n",
       "      <td>Fe</td>\n",
       "      <td>Il est dans Paris certaines rues déshonorées a...</td>\n",
       "    </tr>\n",
       "    <tr>\n",
       "      <th>14</th>\n",
       "      <td>FYO</td>\n",
       "      <td>Un des spectacles où se rencontre le plus d’ép...</td>\n",
       "    </tr>\n",
       "    <tr>\n",
       "      <th>15</th>\n",
       "      <td>G2</td>\n",
       "      <td>Savoir vendre, pouvoir vendre, et vendre ! Le ...</td>\n",
       "    </tr>\n",
       "    <tr>\n",
       "      <th>16</th>\n",
       "      <td>IG</td>\n",
       "      <td>Le Commis-Voyageur, personnage inconnu dans l’...</td>\n",
       "    </tr>\n",
       "    <tr>\n",
       "      <th>17</th>\n",
       "      <td>MN</td>\n",
       "      <td>Vous savez combien sont minces les cloisons qu...</td>\n",
       "    </tr>\n",
       "    <tr>\n",
       "      <th>18</th>\n",
       "      <td>PeBo</td>\n",
       "      <td>Le tourniquet Saint-Jean, dont la description...</td>\n",
       "    </tr>\n",
       "    <tr>\n",
       "      <th>19</th>\n",
       "      <td>PG</td>\n",
       "      <td>Toutes les fois que vous êtes sérieusement all...</td>\n",
       "    </tr>\n",
       "    <tr>\n",
       "      <th>20</th>\n",
       "      <td>PrBo</td>\n",
       "      <td>– Mon cher ami, dit madame de la Baudraye en t...</td>\n",
       "    </tr>\n",
       "    <tr>\n",
       "      <th>21</th>\n",
       "      <td>Sa</td>\n",
       "      <td>J’étais plongé dans une de ces rêveries profon...</td>\n",
       "    </tr>\n",
       "    <tr>\n",
       "      <th>22</th>\n",
       "      <td>SMC1</td>\n",
       "      <td>Esther heureuse En 1824, au dernier bal de l’O...</td>\n",
       "    </tr>\n",
       "    <tr>\n",
       "      <th>23</th>\n",
       "      <td>SMC2</td>\n",
       "      <td>À combien l’amour revient aux vieillards Depui...</td>\n",
       "    </tr>\n",
       "    <tr>\n",
       "      <th>24</th>\n",
       "      <td>SMC3</td>\n",
       "      <td>Où mènent les mauvais chemins Le lendemain, à ...</td>\n",
       "    </tr>\n",
       "    <tr>\n",
       "      <th>25</th>\n",
       "      <td>SMC4</td>\n",
       "      <td>La dernière incarnation de Vautrin – Qu’y a-t-...</td>\n",
       "    </tr>\n",
       "    <tr>\n",
       "      <th>26</th>\n",
       "      <td>SPC</td>\n",
       "      <td>Après les désastres de la Révolution de Juille...</td>\n",
       "    </tr>\n",
       "    <tr>\n",
       "      <th>27</th>\n",
       "      <td>empty</td>\n",
       "      <td>empty</td>\n",
       "    </tr>\n",
       "  </tbody>\n",
       "</table>\n",
       "</div>"
      ],
      "text/plain": [
       "    title                                               text\n",
       "0      EG  Il se trouve dans certaines provinces des mais...\n",
       "1      UM  En entrant à Nemours du côté de Paris, on pass...\n",
       "2   CeBi1  Durant les nuits d’hiver, le bruit ne cesse da...\n",
       "3   CeBi2  Huit jours après cette fête, dernière flammèch...\n",
       "4   CoBe1  Première partie Le père prodigue Vers le milie...\n",
       "5   CoBe2  Quand, après avoir reconduit la baronne, Wence...\n",
       "6     CP1  Vers trois heures de l’après-midi, dans le moi...\n",
       "7     CP2  L’avilissement des mots est une de ces bizarre...\n",
       "8      CS  Léon de Lora, notre célèbre peintre de paysage...\n",
       "9      DL  Il existe dans une ville espagnole située sur ...\n",
       "10    EHC  En 1836, par une belle soirée du mois de septe...\n",
       "11     Em  À Paris, où les hommes d’étude et de pensée on...\n",
       "12     FC  Je demeurais alors dans une petite rue que vou...\n",
       "13     Fe  Il est dans Paris certaines rues déshonorées a...\n",
       "14    FYO  Un des spectacles où se rencontre le plus d’ép...\n",
       "15     G2  Savoir vendre, pouvoir vendre, et vendre ! Le ...\n",
       "16     IG  Le Commis-Voyageur, personnage inconnu dans l’...\n",
       "17     MN  Vous savez combien sont minces les cloisons qu...\n",
       "18   PeBo   Le tourniquet Saint-Jean, dont la description...\n",
       "19     PG  Toutes les fois que vous êtes sérieusement all...\n",
       "20   PrBo  – Mon cher ami, dit madame de la Baudraye en t...\n",
       "21     Sa  J’étais plongé dans une de ces rêveries profon...\n",
       "22   SMC1  Esther heureuse En 1824, au dernier bal de l’O...\n",
       "23   SMC2  À combien l’amour revient aux vieillards Depui...\n",
       "24   SMC3  Où mènent les mauvais chemins Le lendemain, à ...\n",
       "25   SMC4  La dernière incarnation de Vautrin – Qu’y a-t-...\n",
       "26    SPC  Après les désastres de la Révolution de Juille...\n",
       "27  empty                                              empty"
      ]
     },
     "execution_count": 36,
     "metadata": {},
     "output_type": "execute_result"
    }
   ],
   "source": [
    "import_text(0, \"./sources/EG.txt\")\n",
    "import_text(1, \"./sources/UM.txt\")\n",
    "i = 2\n",
    "for text in os.listdir(\"./sources/vie_parisienne/\"):\n",
    "    import_text(i, \"./sources/vie_parisienne/\" + text)\n",
    "    i += 1\n",
    "texts"
   ]
  },
  {
   "cell_type": "markdown",
   "id": "1227e049",
   "metadata": {},
   "source": [
    "## Analyse avec Spacy"
   ]
  },
  {
   "cell_type": "markdown",
   "id": "f27e79ca",
   "metadata": {},
   "source": [
    "On souhaite d'abord analyser les textes en utilisant spacy. On importe donc la librairie"
   ]
  },
  {
   "cell_type": "code",
   "execution_count": 10,
   "id": "b04fc39b",
   "metadata": {},
   "outputs": [],
   "source": [
    "from tqdm import tqdm\n",
    "import spacy\n",
    "nlp = spacy.load(\"fr_dep_news_trf\")"
   ]
  },
  {
   "cell_type": "markdown",
   "id": "525c11b5",
   "metadata": {},
   "source": [
    "On peut ainsi analyser le premier texte, Eugénie Grandet. "
   ]
  },
  {
   "cell_type": "code",
   "execution_count": 9,
   "id": "47058144",
   "metadata": {},
   "outputs": [],
   "source": [
    "doc = nlp(texts[\"text\"][0])"
   ]
  },
  {
   "cell_type": "markdown",
   "id": "3dae2d61",
   "metadata": {},
   "source": [
    "Le document qu'on récupère est une liste de tokens ayant divers attributs:"
   ]
  },
  {
   "cell_type": "code",
   "execution_count": 54,
   "id": "87e679d9",
   "metadata": {
    "scrolled": false
   },
   "outputs": [
    {
     "name": "stdout",
     "output_type": "stream",
     "text": [
      "Mot: Il\n",
      "Lemme: il\n",
      "Nature: PRON\n",
      "Analyse morphologique: Gender=Masc|Number=Sing|Person=3\n",
      "-------------------------\n",
      "Mot: se\n",
      "Lemme: se\n",
      "Nature: PRON\n",
      "Analyse morphologique: Person=3|Reflex=Yes\n",
      "-------------------------\n",
      "Mot: trouve\n",
      "Lemme: trouver\n",
      "Nature: VERB\n",
      "Analyse morphologique: Mood=Ind|Number=Sing|Person=3|Tense=Pres|VerbForm=Fin\n",
      "-------------------------\n",
      "Mot: dans\n",
      "Lemme: dans\n",
      "Nature: ADP\n",
      "Analyse morphologique: \n",
      "-------------------------\n",
      "Mot: certaines\n",
      "Lemme: certain\n",
      "Nature: DET\n",
      "Analyse morphologique: Gender=Fem|Number=Plur\n",
      "-------------------------\n"
     ]
    }
   ],
   "source": [
    "for token in doc[:5]:\n",
    "    print(\"Mot: \" + token.text + \"\\nLemme: \" + token.lemma_ + \"\\nNature: \" + token.pos_ + \"\\nAnalyse morphologique: \" + str(token.morph) + \"\\n-------------------------\")"
   ]
  },
  {
   "cell_type": "markdown",
   "id": "dd106081",
   "metadata": {},
   "source": [
    "On souhaite enregistrer ainsi le document de chaque texte dans le tableau panda. Pour cela, nous devons vérifier que la taille des textes ne dépasse pas la limite"
   ]
  },
  {
   "cell_type": "code",
   "execution_count": 37,
   "id": "bb52efbe",
   "metadata": {},
   "outputs": [],
   "source": [
    "texts.insert(2, \"length\", [len(texts[\"text\"][i]) for i in range(len(texts))])"
   ]
  },
  {
   "cell_type": "code",
   "execution_count": 38,
   "id": "83ddb984",
   "metadata": {},
   "outputs": [
    {
     "data": {
      "text/html": [
       "<div>\n",
       "<style scoped>\n",
       "    .dataframe tbody tr th:only-of-type {\n",
       "        vertical-align: middle;\n",
       "    }\n",
       "\n",
       "    .dataframe tbody tr th {\n",
       "        vertical-align: top;\n",
       "    }\n",
       "\n",
       "    .dataframe thead th {\n",
       "        text-align: right;\n",
       "    }\n",
       "</style>\n",
       "<table border=\"1\" class=\"dataframe\">\n",
       "  <thead>\n",
       "    <tr style=\"text-align: right;\">\n",
       "      <th></th>\n",
       "      <th>title</th>\n",
       "      <th>text</th>\n",
       "      <th>length</th>\n",
       "    </tr>\n",
       "  </thead>\n",
       "  <tbody>\n",
       "    <tr>\n",
       "      <th>0</th>\n",
       "      <td>EG</td>\n",
       "      <td>Il se trouve dans certaines provinces des mais...</td>\n",
       "      <td>376298</td>\n",
       "    </tr>\n",
       "    <tr>\n",
       "      <th>1</th>\n",
       "      <td>UM</td>\n",
       "      <td>En entrant à Nemours du côté de Paris, on pass...</td>\n",
       "      <td>478726</td>\n",
       "    </tr>\n",
       "    <tr>\n",
       "      <th>2</th>\n",
       "      <td>CeBi1</td>\n",
       "      <td>Durant les nuits d’hiver, le bruit ne cesse da...</td>\n",
       "      <td>319369</td>\n",
       "    </tr>\n",
       "    <tr>\n",
       "      <th>3</th>\n",
       "      <td>CeBi2</td>\n",
       "      <td>Huit jours après cette fête, dernière flammèch...</td>\n",
       "      <td>284710</td>\n",
       "    </tr>\n",
       "    <tr>\n",
       "      <th>4</th>\n",
       "      <td>CoBe1</td>\n",
       "      <td>Première partie Le père prodigue Vers le milie...</td>\n",
       "      <td>478333</td>\n",
       "    </tr>\n",
       "    <tr>\n",
       "      <th>5</th>\n",
       "      <td>CoBe2</td>\n",
       "      <td>Quand, après avoir reconduit la baronne, Wence...</td>\n",
       "      <td>388331</td>\n",
       "    </tr>\n",
       "    <tr>\n",
       "      <th>6</th>\n",
       "      <td>CP1</td>\n",
       "      <td>Vers trois heures de l’après-midi, dans le moi...</td>\n",
       "      <td>333473</td>\n",
       "    </tr>\n",
       "    <tr>\n",
       "      <th>7</th>\n",
       "      <td>CP2</td>\n",
       "      <td>L’avilissement des mots est une de ces bizarre...</td>\n",
       "      <td>293933</td>\n",
       "    </tr>\n",
       "    <tr>\n",
       "      <th>8</th>\n",
       "      <td>CS</td>\n",
       "      <td>Léon de Lora, notre célèbre peintre de paysage...</td>\n",
       "      <td>119990</td>\n",
       "    </tr>\n",
       "    <tr>\n",
       "      <th>9</th>\n",
       "      <td>DL</td>\n",
       "      <td>Il existe dans une ville espagnole située sur ...</td>\n",
       "      <td>303267</td>\n",
       "    </tr>\n",
       "    <tr>\n",
       "      <th>10</th>\n",
       "      <td>EHC</td>\n",
       "      <td>En 1836, par une belle soirée du mois de septe...</td>\n",
       "      <td>428200</td>\n",
       "    </tr>\n",
       "    <tr>\n",
       "      <th>11</th>\n",
       "      <td>Em</td>\n",
       "      <td>À Paris, où les hommes d’étude et de pensée on...</td>\n",
       "      <td>447272</td>\n",
       "    </tr>\n",
       "    <tr>\n",
       "      <th>12</th>\n",
       "      <td>FC</td>\n",
       "      <td>Je demeurais alors dans une petite rue que vou...</td>\n",
       "      <td>29636</td>\n",
       "    </tr>\n",
       "    <tr>\n",
       "      <th>13</th>\n",
       "      <td>Fe</td>\n",
       "      <td>Il est dans Paris certaines rues déshonorées a...</td>\n",
       "      <td>247848</td>\n",
       "    </tr>\n",
       "    <tr>\n",
       "      <th>14</th>\n",
       "      <td>FYO</td>\n",
       "      <td>Un des spectacles où se rencontre le plus d’ép...</td>\n",
       "      <td>158025</td>\n",
       "    </tr>\n",
       "    <tr>\n",
       "      <th>15</th>\n",
       "      <td>G2</td>\n",
       "      <td>Savoir vendre, pouvoir vendre, et vendre ! Le ...</td>\n",
       "      <td>20887</td>\n",
       "    </tr>\n",
       "    <tr>\n",
       "      <th>16</th>\n",
       "      <td>IG</td>\n",
       "      <td>Le Commis-Voyageur, personnage inconnu dans l’...</td>\n",
       "      <td>82044</td>\n",
       "    </tr>\n",
       "    <tr>\n",
       "      <th>17</th>\n",
       "      <td>MN</td>\n",
       "      <td>Vous savez combien sont minces les cloisons qu...</td>\n",
       "      <td>144032</td>\n",
       "    </tr>\n",
       "    <tr>\n",
       "      <th>18</th>\n",
       "      <td>PeBo</td>\n",
       "      <td>Le tourniquet Saint-Jean, dont la description...</td>\n",
       "      <td>360553</td>\n",
       "    </tr>\n",
       "    <tr>\n",
       "      <th>19</th>\n",
       "      <td>PG</td>\n",
       "      <td>Toutes les fois que vous êtes sérieusement all...</td>\n",
       "      <td>44324</td>\n",
       "    </tr>\n",
       "    <tr>\n",
       "      <th>20</th>\n",
       "      <td>PrBo</td>\n",
       "      <td>– Mon cher ami, dit madame de la Baudraye en t...</td>\n",
       "      <td>73001</td>\n",
       "    </tr>\n",
       "    <tr>\n",
       "      <th>21</th>\n",
       "      <td>Sa</td>\n",
       "      <td>J’étais plongé dans une de ces rêveries profon...</td>\n",
       "      <td>76108</td>\n",
       "    </tr>\n",
       "    <tr>\n",
       "      <th>22</th>\n",
       "      <td>SMC1</td>\n",
       "      <td>Esther heureuse En 1824, au dernier bal de l’O...</td>\n",
       "      <td>311301</td>\n",
       "    </tr>\n",
       "    <tr>\n",
       "      <th>23</th>\n",
       "      <td>SMC2</td>\n",
       "      <td>À combien l’amour revient aux vieillards Depui...</td>\n",
       "      <td>270549</td>\n",
       "    </tr>\n",
       "    <tr>\n",
       "      <th>24</th>\n",
       "      <td>SMC3</td>\n",
       "      <td>Où mènent les mauvais chemins Le lendemain, à ...</td>\n",
       "      <td>217377</td>\n",
       "    </tr>\n",
       "    <tr>\n",
       "      <th>25</th>\n",
       "      <td>SMC4</td>\n",
       "      <td>La dernière incarnation de Vautrin – Qu’y a-t-...</td>\n",
       "      <td>291721</td>\n",
       "    </tr>\n",
       "    <tr>\n",
       "      <th>26</th>\n",
       "      <td>SPC</td>\n",
       "      <td>Après les désastres de la Révolution de Juille...</td>\n",
       "      <td>125947</td>\n",
       "    </tr>\n",
       "    <tr>\n",
       "      <th>27</th>\n",
       "      <td>empty</td>\n",
       "      <td>empty</td>\n",
       "      <td>5</td>\n",
       "    </tr>\n",
       "  </tbody>\n",
       "</table>\n",
       "</div>"
      ],
      "text/plain": [
       "    title                                               text  length\n",
       "0      EG  Il se trouve dans certaines provinces des mais...  376298\n",
       "1      UM  En entrant à Nemours du côté de Paris, on pass...  478726\n",
       "2   CeBi1  Durant les nuits d’hiver, le bruit ne cesse da...  319369\n",
       "3   CeBi2  Huit jours après cette fête, dernière flammèch...  284710\n",
       "4   CoBe1  Première partie Le père prodigue Vers le milie...  478333\n",
       "5   CoBe2  Quand, après avoir reconduit la baronne, Wence...  388331\n",
       "6     CP1  Vers trois heures de l’après-midi, dans le moi...  333473\n",
       "7     CP2  L’avilissement des mots est une de ces bizarre...  293933\n",
       "8      CS  Léon de Lora, notre célèbre peintre de paysage...  119990\n",
       "9      DL  Il existe dans une ville espagnole située sur ...  303267\n",
       "10    EHC  En 1836, par une belle soirée du mois de septe...  428200\n",
       "11     Em  À Paris, où les hommes d’étude et de pensée on...  447272\n",
       "12     FC  Je demeurais alors dans une petite rue que vou...   29636\n",
       "13     Fe  Il est dans Paris certaines rues déshonorées a...  247848\n",
       "14    FYO  Un des spectacles où se rencontre le plus d’ép...  158025\n",
       "15     G2  Savoir vendre, pouvoir vendre, et vendre ! Le ...   20887\n",
       "16     IG  Le Commis-Voyageur, personnage inconnu dans l’...   82044\n",
       "17     MN  Vous savez combien sont minces les cloisons qu...  144032\n",
       "18   PeBo   Le tourniquet Saint-Jean, dont la description...  360553\n",
       "19     PG  Toutes les fois que vous êtes sérieusement all...   44324\n",
       "20   PrBo  – Mon cher ami, dit madame de la Baudraye en t...   73001\n",
       "21     Sa  J’étais plongé dans une de ces rêveries profon...   76108\n",
       "22   SMC1  Esther heureuse En 1824, au dernier bal de l’O...  311301\n",
       "23   SMC2  À combien l’amour revient aux vieillards Depui...  270549\n",
       "24   SMC3  Où mènent les mauvais chemins Le lendemain, à ...  217377\n",
       "25   SMC4  La dernière incarnation de Vautrin – Qu’y a-t-...  291721\n",
       "26    SPC  Après les désastres de la Révolution de Juille...  125947\n",
       "27  empty                                              empty       5"
      ]
     },
     "execution_count": 38,
     "metadata": {},
     "output_type": "execute_result"
    }
   ],
   "source": [
    "texts"
   ]
  },
  {
   "cell_type": "code",
   "execution_count": 39,
   "id": "1d489fdf",
   "metadata": {},
   "outputs": [],
   "source": [
    "nlp.max_length = 10 + max(texts[\"length\"])"
   ]
  },
  {
   "cell_type": "code",
   "execution_count": 8,
   "id": "0a8f927b",
   "metadata": {},
   "outputs": [
    {
     "name": "stdout",
     "output_type": "stream",
     "text": [
      "Analysed EG, time taken: 255.03121948242188s.\n",
      "Analysed UM, time taken: 363.6420269012451s.\n",
      "Analysed CeBi1, time taken: 217.19300889968872s.\n",
      "Analysed CeBi2, time taken: 245.814062833786s.\n",
      "Analysed CoBe1, time taken: 369.74119210243225s.\n",
      "Analysed CoBe2, time taken: 291.5948872566223s.\n",
      "Analysed CP1, time taken: 264.3212401866913s.\n",
      "Analysed CP2, time taken: 256.83123207092285s.\n",
      "Analysed CS, time taken: 111.04172229766846s.\n",
      "Analysed DL, time taken: 214.8923180103302s.\n",
      "Analysed EHC, time taken: 356.7729947566986s.\n",
      "Analysed Em, time taken: 459.73572278022766s.\n",
      "Analysed FC, time taken: 31.054413080215454s.\n",
      "Analysed Fe, time taken: 282.8783917427063s.\n",
      "Analysed FYO, time taken: 160.5045268535614s.\n",
      "Analysed G2, time taken: 21.322838068008423s.\n",
      "Analysed IG, time taken: 84.695481300354s.\n",
      "Analysed MN, time taken: 161.1243438720703s.\n",
      "Analysed PeBo, time taken: 405.35764813423157s.\n",
      "Analysed PG, time taken: 46.12586045265198s.\n",
      "Analysed PrBo, time taken: 80.58746910095215s.\n",
      "Analysed Sa, time taken: 76.16105699539185s.\n",
      "Analysed SMC1, time taken: 405.3899312019348s.\n",
      "Analysed SMC2, time taken: 379.686847448349s.\n",
      "Analysed SMC3, time taken: 220.6083161830902s.\n",
      "Analysed SMC4, time taken: 351.16916489601135s.\n",
      "Analysed SPC, time taken: 127.91274404525757s.\n",
      "Analysed empty, time taken: 0.08503317832946777s.\n"
     ]
    }
   ],
   "source": [
    "from time import time\n",
    "\n",
    "analysis = []\n",
    "_time = time()\n",
    "for i in range(len(texts)):\n",
    "    analysis.append(nlp(texts[\"text\"][i]))\n",
    "    dtime = time() - _time\n",
    "    print(\"Analysed \" + texts[\"title\"][i] + \", time taken: \" + str(dtime) + \"s.\")\n",
    "    _time = time()\n",
    "\n",
    "texts.insert(2, \"doc\", analysis)"
   ]
  },
  {
   "cell_type": "code",
   "execution_count": 137,
   "id": "34f34971",
   "metadata": {},
   "outputs": [
    {
     "data": {
      "text/html": [
       "<div>\n",
       "<style scoped>\n",
       "    .dataframe tbody tr th:only-of-type {\n",
       "        vertical-align: middle;\n",
       "    }\n",
       "\n",
       "    .dataframe tbody tr th {\n",
       "        vertical-align: top;\n",
       "    }\n",
       "\n",
       "    .dataframe thead th {\n",
       "        text-align: right;\n",
       "    }\n",
       "</style>\n",
       "<table border=\"1\" class=\"dataframe\">\n",
       "  <thead>\n",
       "    <tr style=\"text-align: right;\">\n",
       "      <th></th>\n",
       "      <th>title</th>\n",
       "      <th>text</th>\n",
       "      <th>doc</th>\n",
       "      <th>length</th>\n",
       "    </tr>\n",
       "  </thead>\n",
       "  <tbody>\n",
       "    <tr>\n",
       "      <th>0</th>\n",
       "      <td>EG</td>\n",
       "      <td>Il se trouve dans certaines provinces des mais...</td>\n",
       "      <td>(Il, se, trouve, dans, certaines, provinces, d...</td>\n",
       "      <td>376298</td>\n",
       "    </tr>\n",
       "    <tr>\n",
       "      <th>1</th>\n",
       "      <td>UM</td>\n",
       "      <td>En entrant à Nemours du côté de Paris, on pass...</td>\n",
       "      <td>(En, entrant, à, Nemours, du, côté, de, Paris,...</td>\n",
       "      <td>478726</td>\n",
       "    </tr>\n",
       "    <tr>\n",
       "      <th>2</th>\n",
       "      <td>CeBi1</td>\n",
       "      <td>Durant les nuits d’hiver, le bruit ne cesse da...</td>\n",
       "      <td>(Durant, les, nuits, d’, hiver, ,, le, bruit, ...</td>\n",
       "      <td>319369</td>\n",
       "    </tr>\n",
       "    <tr>\n",
       "      <th>3</th>\n",
       "      <td>CeBi2</td>\n",
       "      <td>Huit jours après cette fête, dernière flammèch...</td>\n",
       "      <td>(Huit, jours, après, cette, fête, ,, dernière,...</td>\n",
       "      <td>284710</td>\n",
       "    </tr>\n",
       "    <tr>\n",
       "      <th>4</th>\n",
       "      <td>CoBe1</td>\n",
       "      <td>Première partie Le père prodigue Vers le milie...</td>\n",
       "      <td>(Première, partie, Le, père, prodigue, Vers, l...</td>\n",
       "      <td>478333</td>\n",
       "    </tr>\n",
       "    <tr>\n",
       "      <th>5</th>\n",
       "      <td>CoBe2</td>\n",
       "      <td>Quand, après avoir reconduit la baronne, Wence...</td>\n",
       "      <td>(Quand, ,, après, avoir, reconduit, la, baronn...</td>\n",
       "      <td>388331</td>\n",
       "    </tr>\n",
       "    <tr>\n",
       "      <th>6</th>\n",
       "      <td>CP1</td>\n",
       "      <td>Vers trois heures de l’après-midi, dans le moi...</td>\n",
       "      <td>(Vers, trois, heures, de, l’, après-midi, ,, d...</td>\n",
       "      <td>333473</td>\n",
       "    </tr>\n",
       "    <tr>\n",
       "      <th>7</th>\n",
       "      <td>CP2</td>\n",
       "      <td>L’avilissement des mots est une de ces bizarre...</td>\n",
       "      <td>(L’, avilissement, des, mots, est, une, de, ce...</td>\n",
       "      <td>293933</td>\n",
       "    </tr>\n",
       "    <tr>\n",
       "      <th>8</th>\n",
       "      <td>CS</td>\n",
       "      <td>Léon de Lora, notre célèbre peintre de paysage...</td>\n",
       "      <td>(Léon, de, Lora, ,, notre, célèbre, peintre, d...</td>\n",
       "      <td>119990</td>\n",
       "    </tr>\n",
       "    <tr>\n",
       "      <th>9</th>\n",
       "      <td>DL</td>\n",
       "      <td>Il existe dans une ville espagnole située sur ...</td>\n",
       "      <td>(Il, existe, dans, une, ville, espagnole, situ...</td>\n",
       "      <td>303267</td>\n",
       "    </tr>\n",
       "    <tr>\n",
       "      <th>10</th>\n",
       "      <td>EHC</td>\n",
       "      <td>En 1836, par une belle soirée du mois de septe...</td>\n",
       "      <td>(En, 1836, ,, par, une, belle, soirée, du, moi...</td>\n",
       "      <td>428200</td>\n",
       "    </tr>\n",
       "    <tr>\n",
       "      <th>11</th>\n",
       "      <td>Em</td>\n",
       "      <td>À Paris, où les hommes d’étude et de pensée on...</td>\n",
       "      <td>(À, Paris, ,, où, les, hommes, d’, étude, et, ...</td>\n",
       "      <td>447272</td>\n",
       "    </tr>\n",
       "    <tr>\n",
       "      <th>12</th>\n",
       "      <td>FC</td>\n",
       "      <td>Je demeurais alors dans une petite rue que vou...</td>\n",
       "      <td>(Je, demeurais, alors, dans, une, petite, rue,...</td>\n",
       "      <td>29636</td>\n",
       "    </tr>\n",
       "    <tr>\n",
       "      <th>13</th>\n",
       "      <td>Fe</td>\n",
       "      <td>Il est dans Paris certaines rues déshonorées a...</td>\n",
       "      <td>(Il, est, dans, Paris, certaines, rues, déshon...</td>\n",
       "      <td>247848</td>\n",
       "    </tr>\n",
       "    <tr>\n",
       "      <th>14</th>\n",
       "      <td>FYO</td>\n",
       "      <td>Un des spectacles où se rencontre le plus d’ép...</td>\n",
       "      <td>(Un, des, spectacles, où, se, rencontre, le, p...</td>\n",
       "      <td>158025</td>\n",
       "    </tr>\n",
       "    <tr>\n",
       "      <th>15</th>\n",
       "      <td>G2</td>\n",
       "      <td>Savoir vendre, pouvoir vendre, et vendre ! Le ...</td>\n",
       "      <td>(Savoir, vendre, ,, pouvoir, vendre, ,, et, ve...</td>\n",
       "      <td>20887</td>\n",
       "    </tr>\n",
       "    <tr>\n",
       "      <th>16</th>\n",
       "      <td>IG</td>\n",
       "      <td>Le Commis-Voyageur, personnage inconnu dans l’...</td>\n",
       "      <td>(Le, Commis, -, Voyageur, ,, personnage, incon...</td>\n",
       "      <td>82044</td>\n",
       "    </tr>\n",
       "    <tr>\n",
       "      <th>17</th>\n",
       "      <td>MN</td>\n",
       "      <td>Vous savez combien sont minces les cloisons qu...</td>\n",
       "      <td>(Vous, savez, combien, sont, minces, les, cloi...</td>\n",
       "      <td>144032</td>\n",
       "    </tr>\n",
       "    <tr>\n",
       "      <th>18</th>\n",
       "      <td>PeBo</td>\n",
       "      <td>Le tourniquet Saint-Jean, dont la description...</td>\n",
       "      <td>( , Le, tourniquet, Saint-Jean, ,, dont, la, d...</td>\n",
       "      <td>360553</td>\n",
       "    </tr>\n",
       "    <tr>\n",
       "      <th>19</th>\n",
       "      <td>PG</td>\n",
       "      <td>Toutes les fois que vous êtes sérieusement all...</td>\n",
       "      <td>(Toutes, les, fois, que, vous, êtes, sérieusem...</td>\n",
       "      <td>44324</td>\n",
       "    </tr>\n",
       "    <tr>\n",
       "      <th>20</th>\n",
       "      <td>PrBo</td>\n",
       "      <td>– Mon cher ami, dit madame de la Baudraye en t...</td>\n",
       "      <td>(–, Mon, cher, ami, ,, dit, madame, de, la, Ba...</td>\n",
       "      <td>73001</td>\n",
       "    </tr>\n",
       "    <tr>\n",
       "      <th>21</th>\n",
       "      <td>Sa</td>\n",
       "      <td>J’étais plongé dans une de ces rêveries profon...</td>\n",
       "      <td>(J’, étais, plongé, dans, une, de, ces, rêveri...</td>\n",
       "      <td>76108</td>\n",
       "    </tr>\n",
       "    <tr>\n",
       "      <th>22</th>\n",
       "      <td>SMC1</td>\n",
       "      <td>Esther heureuse En 1824, au dernier bal de l’O...</td>\n",
       "      <td>(Esther, heureuse, En, 1824, ,, au, dernier, b...</td>\n",
       "      <td>311301</td>\n",
       "    </tr>\n",
       "    <tr>\n",
       "      <th>23</th>\n",
       "      <td>SMC2</td>\n",
       "      <td>À combien l’amour revient aux vieillards Depui...</td>\n",
       "      <td>(À, combien, l’, amour, revient, aux, vieillar...</td>\n",
       "      <td>270549</td>\n",
       "    </tr>\n",
       "    <tr>\n",
       "      <th>24</th>\n",
       "      <td>SMC3</td>\n",
       "      <td>Où mènent les mauvais chemins Le lendemain, à ...</td>\n",
       "      <td>(Où, mènent, les, mauvais, chemins, Le, lendem...</td>\n",
       "      <td>217377</td>\n",
       "    </tr>\n",
       "    <tr>\n",
       "      <th>25</th>\n",
       "      <td>SMC4</td>\n",
       "      <td>La dernière incarnation de Vautrin – Qu’y a-t-...</td>\n",
       "      <td>(La, dernière, incarnation, de, Vautrin, –, Qu...</td>\n",
       "      <td>291721</td>\n",
       "    </tr>\n",
       "    <tr>\n",
       "      <th>26</th>\n",
       "      <td>SPC</td>\n",
       "      <td>Après les désastres de la Révolution de Juille...</td>\n",
       "      <td>(Après, les, désastres, de, la, Révolution, de...</td>\n",
       "      <td>125947</td>\n",
       "    </tr>\n",
       "    <tr>\n",
       "      <th>27</th>\n",
       "      <td>empty</td>\n",
       "      <td>empty</td>\n",
       "      <td>(empty)</td>\n",
       "      <td>5</td>\n",
       "    </tr>\n",
       "  </tbody>\n",
       "</table>\n",
       "</div>"
      ],
      "text/plain": [
       "    title                                               text  \\\n",
       "0      EG  Il se trouve dans certaines provinces des mais...   \n",
       "1      UM  En entrant à Nemours du côté de Paris, on pass...   \n",
       "2   CeBi1  Durant les nuits d’hiver, le bruit ne cesse da...   \n",
       "3   CeBi2  Huit jours après cette fête, dernière flammèch...   \n",
       "4   CoBe1  Première partie Le père prodigue Vers le milie...   \n",
       "5   CoBe2  Quand, après avoir reconduit la baronne, Wence...   \n",
       "6     CP1  Vers trois heures de l’après-midi, dans le moi...   \n",
       "7     CP2  L’avilissement des mots est une de ces bizarre...   \n",
       "8      CS  Léon de Lora, notre célèbre peintre de paysage...   \n",
       "9      DL  Il existe dans une ville espagnole située sur ...   \n",
       "10    EHC  En 1836, par une belle soirée du mois de septe...   \n",
       "11     Em  À Paris, où les hommes d’étude et de pensée on...   \n",
       "12     FC  Je demeurais alors dans une petite rue que vou...   \n",
       "13     Fe  Il est dans Paris certaines rues déshonorées a...   \n",
       "14    FYO  Un des spectacles où se rencontre le plus d’ép...   \n",
       "15     G2  Savoir vendre, pouvoir vendre, et vendre ! Le ...   \n",
       "16     IG  Le Commis-Voyageur, personnage inconnu dans l’...   \n",
       "17     MN  Vous savez combien sont minces les cloisons qu...   \n",
       "18   PeBo   Le tourniquet Saint-Jean, dont la description...   \n",
       "19     PG  Toutes les fois que vous êtes sérieusement all...   \n",
       "20   PrBo  – Mon cher ami, dit madame de la Baudraye en t...   \n",
       "21     Sa  J’étais plongé dans une de ces rêveries profon...   \n",
       "22   SMC1  Esther heureuse En 1824, au dernier bal de l’O...   \n",
       "23   SMC2  À combien l’amour revient aux vieillards Depui...   \n",
       "24   SMC3  Où mènent les mauvais chemins Le lendemain, à ...   \n",
       "25   SMC4  La dernière incarnation de Vautrin – Qu’y a-t-...   \n",
       "26    SPC  Après les désastres de la Révolution de Juille...   \n",
       "27  empty                                              empty   \n",
       "\n",
       "                                                  doc  length  \n",
       "0   (Il, se, trouve, dans, certaines, provinces, d...  376298  \n",
       "1   (En, entrant, à, Nemours, du, côté, de, Paris,...  478726  \n",
       "2   (Durant, les, nuits, d’, hiver, ,, le, bruit, ...  319369  \n",
       "3   (Huit, jours, après, cette, fête, ,, dernière,...  284710  \n",
       "4   (Première, partie, Le, père, prodigue, Vers, l...  478333  \n",
       "5   (Quand, ,, après, avoir, reconduit, la, baronn...  388331  \n",
       "6   (Vers, trois, heures, de, l’, après-midi, ,, d...  333473  \n",
       "7   (L’, avilissement, des, mots, est, une, de, ce...  293933  \n",
       "8   (Léon, de, Lora, ,, notre, célèbre, peintre, d...  119990  \n",
       "9   (Il, existe, dans, une, ville, espagnole, situ...  303267  \n",
       "10  (En, 1836, ,, par, une, belle, soirée, du, moi...  428200  \n",
       "11  (À, Paris, ,, où, les, hommes, d’, étude, et, ...  447272  \n",
       "12  (Je, demeurais, alors, dans, une, petite, rue,...   29636  \n",
       "13  (Il, est, dans, Paris, certaines, rues, déshon...  247848  \n",
       "14  (Un, des, spectacles, où, se, rencontre, le, p...  158025  \n",
       "15  (Savoir, vendre, ,, pouvoir, vendre, ,, et, ve...   20887  \n",
       "16  (Le, Commis, -, Voyageur, ,, personnage, incon...   82044  \n",
       "17  (Vous, savez, combien, sont, minces, les, cloi...  144032  \n",
       "18  ( , Le, tourniquet, Saint-Jean, ,, dont, la, d...  360553  \n",
       "19  (Toutes, les, fois, que, vous, êtes, sérieusem...   44324  \n",
       "20  (–, Mon, cher, ami, ,, dit, madame, de, la, Ba...   73001  \n",
       "21  (J’, étais, plongé, dans, une, de, ces, rêveri...   76108  \n",
       "22  (Esther, heureuse, En, 1824, ,, au, dernier, b...  311301  \n",
       "23  (À, combien, l’, amour, revient, aux, vieillar...  270549  \n",
       "24  (Où, mènent, les, mauvais, chemins, Le, lendem...  217377  \n",
       "25  (La, dernière, incarnation, de, Vautrin, –, Qu...  291721  \n",
       "26  (Après, les, désastres, de, la, Révolution, de...  125947  \n",
       "27                                            (empty)       5  "
      ]
     },
     "execution_count": 137,
     "metadata": {},
     "output_type": "execute_result"
    }
   ],
   "source": [
    "texts"
   ]
  },
  {
   "cell_type": "markdown",
   "id": "dd48de7c",
   "metadata": {},
   "source": [
    "## Comptage de mots"
   ]
  },
  {
   "cell_type": "markdown",
   "id": "a633a8f8",
   "metadata": {},
   "source": [
    "Regardons déjà les mots intéressants dans le texte. On souhaite enlever les mots dont la nature nous intéresse peu, et ne garder que leur lemme, pour pouvoir les compter. On utilise donc un Counter de python. On compte aussi les POS par intérêt pour le corpus."
   ]
  },
  {
   "cell_type": "code",
   "execution_count": 148,
   "id": "eabac10a",
   "metadata": {},
   "outputs": [],
   "source": [
    "from collections import Counter\n",
    "\n",
    "uninteresting = ['PRON','CCONJ','PART','DET','ADP','SPACE', 'NUM', 'SYM', \"SCONJ\", \"INTJ\", \"AUX\", \"PUNCT\"]\n",
    "lemmas = Counter()\n",
    "pos = Counter()\n",
    "for token in doc:\n",
    "    if token.pos_ not in uninteresting:\n",
    "        lemmas.update([token.lemma_])\n",
    "        pos.update([token.pos_])"
   ]
  },
  {
   "cell_type": "code",
   "execution_count": 149,
   "id": "c1cdd10e",
   "metadata": {},
   "outputs": [
    {
     "data": {
      "text/plain": [
       "[('dire', 609),\n",
       " ('ne', 548),\n",
       " ('Grandet', 508),\n",
       " ('avoir', 439),\n",
       " ('pas', 439),\n",
       " ('Eugénie', 352),\n",
       " ('n’', 335),\n",
       " ('faire', 325),\n",
       " ('tout', 300),\n",
       " ('bien', 298),\n",
       " ('plus', 292),\n",
       " ('Monsieur', 263),\n",
       " ('aller', 251),\n",
       " ('père', 242),\n",
       " ('monsieur', 219),\n",
       " ('voir', 217),\n",
       " ('pouvoir', 213),\n",
       " ('Nanon', 212),\n",
       " ('Charles', 204),\n",
       " ('être', 188)]"
      ]
     },
     "execution_count": 149,
     "metadata": {},
     "output_type": "execute_result"
    }
   ],
   "source": [
    "lemmas.most_common()[:20]"
   ]
  },
  {
   "cell_type": "code",
   "execution_count": 150,
   "id": "a2c21d15",
   "metadata": {},
   "outputs": [
    {
     "data": {
      "text/plain": [
       "[('NOUN', 13250),\n",
       " ('VERB', 9887),\n",
       " ('ADV', 4514),\n",
       " ('ADJ', 3568),\n",
       " ('PROPN', 2301),\n",
       " ('X', 20)]"
      ]
     },
     "execution_count": 150,
     "metadata": {},
     "output_type": "execute_result"
    }
   ],
   "source": [
    "pos.most_common()"
   ]
  },
  {
   "cell_type": "markdown",
   "id": "1f84a91e",
   "metadata": {},
   "source": [
    "De cette manière, on peut regarder manuellement les 100 mots les plus fréquents dans Eugénie Grandet et Ursule Mirouët, pour voir lesquels peuvent nous intéresser le plus. "
   ]
  },
  {
   "cell_type": "code",
   "execution_count": 151,
   "id": "12d6f64d",
   "metadata": {},
   "outputs": [],
   "source": [
    "def get_counter(index):\n",
    "    lemmas = Counter()\n",
    "    for token in texts[\"doc\"][index]:\n",
    "        if token.pos_ not in uninteresting:\n",
    "            lemmas.update([token.lemma_])\n",
    "    return lemmas"
   ]
  },
  {
   "cell_type": "code",
   "execution_count": 234,
   "id": "da632c3a",
   "metadata": {
    "scrolled": true
   },
   "outputs": [
    {
     "data": {
      "text/plain": [
       "[('dire', 609),\n",
       " ('ne', 548),\n",
       " ('Grandet', 508),\n",
       " ('avoir', 439),\n",
       " ('pas', 439),\n",
       " ('Eugénie', 352),\n",
       " ('n’', 335),\n",
       " ('faire', 325),\n",
       " ('tout', 300),\n",
       " ('bien', 298),\n",
       " ('plus', 292),\n",
       " ('Monsieur', 263),\n",
       " ('aller', 251),\n",
       " ('père', 242),\n",
       " ('monsieur', 219),\n",
       " ('voir', 217),\n",
       " ('pouvoir', 213),\n",
       " ('Nanon', 212),\n",
       " ('Charles', 204),\n",
       " ('être', 188)]"
      ]
     },
     "execution_count": 234,
     "metadata": {},
     "output_type": "execute_result"
    }
   ],
   "source": [
    "get_counter(0).most_common()[:20]"
   ]
  },
  {
   "cell_type": "code",
   "execution_count": 235,
   "id": "834aaa77",
   "metadata": {
    "scrolled": true
   },
   "outputs": [
    {
     "data": {
      "text/plain": [
       "[('dire', 734),\n",
       " ('ne', 665),\n",
       " ('avoir', 516),\n",
       " ('pas', 491),\n",
       " ('Ursule', 489),\n",
       " ('faire', 409),\n",
       " ('Minoret', 385),\n",
       " ('plus', 342),\n",
       " ('tout', 336),\n",
       " ('n’', 331),\n",
       " ('voir', 302),\n",
       " ('docteur', 295),\n",
       " ('pouvoir', 293),\n",
       " ('Savinien', 244),\n",
       " ('aller', 241),\n",
       " ('bien', 235),\n",
       " ('être', 222),\n",
       " ('vouloir', 217),\n",
       " ('petit', 216),\n",
       " ('Monsieur', 206)]"
      ]
     },
     "execution_count": 235,
     "metadata": {},
     "output_type": "execute_result"
    }
   ],
   "source": [
    "get_counter(1).most_common()[:20]"
   ]
  },
  {
   "cell_type": "markdown",
   "id": "6402d554",
   "metadata": {},
   "source": [
    "A partir de là, on forme plusieurs dictionnaires organisés en différents axes de comparaison"
   ]
  },
  {
   "cell_type": "code",
   "execution_count": 356,
   "id": "48a50ba7",
   "metadata": {},
   "outputs": [],
   "source": [
    "parole = [\"dire\", \"répondre\", \"entendre\", \"demander\", \"mot\", \"voix\", \"lettre\", \n",
    "          \"parole\", \"écrier\", \"bavard\", \"écrire\", \"inscription\", \"rumeur\"]\n",
    "age = [\"vieux\", \"jeune\", \"vieillard\"]\n",
    "argent = [\"argent\", \"or\", \"pièce\", \"riche\", \"pauvre\", \"héritier\", \"héritage\"]\n",
    "passivité = [\"entendre\", \"regarder\", \"voir\", \"parler\", \"regard\", \"paraître\", \"reconnaître\", \"sourire\", \"penser\"]\n",
    "silence = [\"secret\", \"silence\", \"taire\", \"muet\", \"silencieux\", \"doucement\"]\n",
    "religion = [\"mort\", \"magnétisme\", \"âme\", \"Dieu\", \"église\", \"prier\", \"rêve\"]\n",
    "féminin = [\"fille\", \"mère\", \"mademoiselle\", \"dame\"]\n",
    "connaissance = [\"penser\", \"intérêt\", \"pensée\", \"connaître\", \"savoir\", \"idée\", \"apprendre\"]\n",
    "sentiment = [\"cœur\", \"amour\", \"sentiment\", \"enfant\", \"aimer\"]\n",
    "temps = [\"moment\", \"heure\", \"toujours\", \"jamais\", \"temps\", \"mois\", \"année\", \"jour\", \"minute\"]\n",
    "désir = [\"désir\", \"désirer\", \"vouloir\"]\n",
    "influence = [\"ami\", \"monde\"]\n",
    "privé = [\"maison\", \"porte\", \"seul\", \"chambre\", \"fenêtre\"]\n",
    "patriarcat = [\"père\", \"homme\", \"famille\", \"fort\", \"fils\", \"maître\", \"cousin\"]\n",
    "musique = [\"musique\", \"piano\"]\n",
    "social = [\"bourgeois\"]"
   ]
  },
  {
   "cell_type": "markdown",
   "id": "c248870e",
   "metadata": {},
   "source": [
    "On souhaite alors compter les mots dans chaque oeuvre, puis en déduire une fréquence à agréger dans les scènes de la vie parisiennes pour les comparer à Ursule Mirouët et Eugénie Grandet. \n",
    "\n",
    "Définissons donc des fonctions pour faire tout ça"
   ]
  },
  {
   "cell_type": "code",
   "execution_count": 324,
   "id": "9c1f5397",
   "metadata": {},
   "outputs": [],
   "source": [
    "import matplotlib"
   ]
  },
  {
   "cell_type": "code",
   "execution_count": 326,
   "id": "0d622bfa",
   "metadata": {},
   "outputs": [],
   "source": [
    "from math import floor\n",
    "\n",
    "def count(dic, pondere = False, *agreg):\n",
    "    # agreg: list of lists [old_term, new_term]\n",
    "    \n",
    "    # Initialization\n",
    "    def agreg_filter(word):\n",
    "        for x in agreg: \n",
    "            if x[0] == word:\n",
    "                return False\n",
    "        return True\n",
    "    dic = list(filter(agreg_filter, dic))\n",
    "    index_labels = [\"Eugénie Grandet\", \"Ursule Mirouët\", \"Vie parisienne\"]\n",
    "    df = {}\n",
    "    nb_vp = len(texts) - 3\n",
    "    for word in dic: \n",
    "        df[word] = []\n",
    "    df[\"total\"] = []\n",
    "                       \n",
    "    # EG and UM\n",
    "    EG_counter = get_counter(0)\n",
    "    EG_len = sum(EG_counter.values())\n",
    "    EG_num = 0\n",
    "    UM_counter = get_counter(1)\n",
    "    UM_len = sum(UM_counter.values())\n",
    "    UM_num = 0\n",
    "    for word in dic:\n",
    "        if word in EG_counter.keys():\n",
    "            df[word].append(EG_counter[word] / EG_len)\n",
    "            EG_num += EG_counter[word]\n",
    "        else:\n",
    "            df[word].append(0)\n",
    "        if word in UM_counter.keys():\n",
    "            df[word].append(UM_counter[word] / UM_len)\n",
    "            UM_num += UM_counter[word]\n",
    "        else:\n",
    "            df[word].append(0)\n",
    "        for pair in agreg:\n",
    "            if pair[1] == word:\n",
    "                if pair[0] in EG_counter.keys():\n",
    "                    df[word][0] += EG_counter[pair[0]] / EG_len\n",
    "                    EG_num += EG_counter[pair[0]]\n",
    "                if pair[0] in UM_counter.keys():\n",
    "                    df[word][1] += UM_counter[pair[0]] / UM_len\n",
    "                    UM_num += UM_counter[pair[0]]\n",
    "    df[\"total\"].append(EG_num / EG_len)\n",
    "    df[\"total\"].append(UM_num / UM_len)\n",
    "    \n",
    "    # Vie parisienne\n",
    "    for word in dic: \n",
    "        df[word] += [0, 0, -1, -1]\n",
    "    df[\"total\"] += [0, 0, -1, -1]  \n",
    "    length_vp = 0\n",
    "    for i in range(2, len(texts)-1): \n",
    "        _counter = get_counter(i)\n",
    "        _len = sum(_counter.values())\n",
    "        length_vp += _len\n",
    "        _num = 0\n",
    "        for word in dic:\n",
    "            local_count = 0\n",
    "            if word in _counter.keys():\n",
    "                df[word][2] += _counter[word] / _len / nb_vp\n",
    "                df[word][3] += _counter[word]\n",
    "                local_count += _counter[word]\n",
    "            for pair in agreg:\n",
    "                if pair[1] == word and pair[0] in _counter.keys():\n",
    "                    df[word][2] += _counter[pair[0]] / _len / nb_vp\n",
    "                    df[word][3] += _counter[pair[0]]\n",
    "                    local_count += _counter[pair[0]]\n",
    "            _num += local_count\n",
    "            if df[word][4] == -1 or df[word][4] > local_count / _len:\n",
    "                df[word][4] = local_count / _len\n",
    "            if df[word][5] == -1 or df[word][5] < local_count / _len:\n",
    "                df[word][5] = local_count / _len\n",
    "        df[\"total\"][2] += _num / _len / nb_vp\n",
    "        df[\"total\"][3] += _num\n",
    "        if df[\"total\"][4] == -1 or df[\"total\"][4] > _num / _len:\n",
    "            df[\"total\"][4] = _num / _len\n",
    "        if df[\"total\"][5] == -1 or df[\"total\"][5] < _num / _len:\n",
    "            df[\"total\"][5] = _num / _len\n",
    "    \n",
    "    # Normalization\n",
    "    for word in dic:\n",
    "        df[word][3] /= length_vp\n",
    "    df[\"total\"][3] /= length_vp\n",
    "    \n",
    "    for word in dic: \n",
    "        for i in range(4):\n",
    "            fact = 1\n",
    "            if df[word][5] == 0:\n",
    "                df[word][5] = max(df[word][0], df[word][1])\n",
    "                if df[word][5] == 0: \n",
    "                    df[word][5] = 1\n",
    "            elif df[word][5] == df[word][4]:\n",
    "                df[word][4] = 0\n",
    "            df[word][i] = floor(((df[word][i] - df[word][4]) / (df[word][5] - df[word][4])) * 100) / 100\n",
    "        df[word] = df[word][:-2]\n",
    "        if pondere: \n",
    "            df[word] = [df[word][0], df[word][1], df[word][3]]\n",
    "        else:\n",
    "            df[word] = df[word][:-1]\n",
    "    for i in range(4):\n",
    "        df[\"total\"][i] = floor(((df[\"total\"][i] - df[\"total\"][4]) / (df[\"total\"][5] - df[\"total\"][4])) * 100) / 100\n",
    "    df[\"total\"] = df[\"total\"][:-2]\n",
    "    if pondere: \n",
    "        df[\"total\"] = [df[\"total\"][0], df[\"total\"][1], df[\"total\"][3]]\n",
    "    else:\n",
    "        df[\"total\"] = df[\"total\"][:-1]\n",
    "       \n",
    "    return pd.DataFrame(df, index=index_labels)"
   ]
  },
  {
   "cell_type": "code",
   "execution_count": 327,
   "id": "84b606b8",
   "metadata": {},
   "outputs": [
    {
     "data": {
      "text/html": [
       "<div>\n",
       "<style scoped>\n",
       "    .dataframe tbody tr th:only-of-type {\n",
       "        vertical-align: middle;\n",
       "    }\n",
       "\n",
       "    .dataframe tbody tr th {\n",
       "        vertical-align: top;\n",
       "    }\n",
       "\n",
       "    .dataframe thead th {\n",
       "        text-align: right;\n",
       "    }\n",
       "</style>\n",
       "<table border=\"1\" class=\"dataframe\">\n",
       "  <thead>\n",
       "    <tr style=\"text-align: right;\">\n",
       "      <th></th>\n",
       "      <th>dire</th>\n",
       "      <th>répondre</th>\n",
       "      <th>entendre</th>\n",
       "      <th>demander</th>\n",
       "      <th>mot</th>\n",
       "      <th>voix</th>\n",
       "      <th>lettre</th>\n",
       "      <th>parole</th>\n",
       "      <th>écrier</th>\n",
       "      <th>bavard</th>\n",
       "      <th>écrire</th>\n",
       "      <th>inscription</th>\n",
       "      <th>rumeur</th>\n",
       "      <th>total</th>\n",
       "    </tr>\n",
       "  </thead>\n",
       "  <tbody>\n",
       "    <tr>\n",
       "      <th>Eugénie Grandet</th>\n",
       "      <td>0.55</td>\n",
       "      <td>0.44</td>\n",
       "      <td>0.71</td>\n",
       "      <td>0.12</td>\n",
       "      <td>0.20</td>\n",
       "      <td>0.22</td>\n",
       "      <td>0.44</td>\n",
       "      <td>0.53</td>\n",
       "      <td>0.30</td>\n",
       "      <td>0.00</td>\n",
       "      <td>0.21</td>\n",
       "      <td>0.29</td>\n",
       "      <td>0.00</td>\n",
       "      <td>0.57</td>\n",
       "    </tr>\n",
       "    <tr>\n",
       "      <th>Ursule Mirouët</th>\n",
       "      <td>0.51</td>\n",
       "      <td>0.64</td>\n",
       "      <td>0.37</td>\n",
       "      <td>0.24</td>\n",
       "      <td>0.13</td>\n",
       "      <td>0.20</td>\n",
       "      <td>0.72</td>\n",
       "      <td>0.47</td>\n",
       "      <td>0.61</td>\n",
       "      <td>0.19</td>\n",
       "      <td>0.46</td>\n",
       "      <td>2.20</td>\n",
       "      <td>0.20</td>\n",
       "      <td>0.65</td>\n",
       "    </tr>\n",
       "    <tr>\n",
       "      <th>Vie parisienne</th>\n",
       "      <td>0.45</td>\n",
       "      <td>0.35</td>\n",
       "      <td>0.32</td>\n",
       "      <td>0.28</td>\n",
       "      <td>0.25</td>\n",
       "      <td>0.15</td>\n",
       "      <td>0.38</td>\n",
       "      <td>0.36</td>\n",
       "      <td>0.47</td>\n",
       "      <td>0.29</td>\n",
       "      <td>0.31</td>\n",
       "      <td>0.20</td>\n",
       "      <td>0.09</td>\n",
       "      <td>0.47</td>\n",
       "    </tr>\n",
       "  </tbody>\n",
       "</table>\n",
       "</div>"
      ],
      "text/plain": [
       "                 dire  répondre  entendre  demander  mot  voix  lettre  \\\n",
       "Eugénie Grandet  0.55      0.44      0.71      0.12 0.20  0.22    0.44   \n",
       "Ursule Mirouët   0.51      0.64      0.37      0.24 0.13  0.20    0.72   \n",
       "Vie parisienne   0.45      0.35      0.32      0.28 0.25  0.15    0.38   \n",
       "\n",
       "                 parole  écrier  bavard  écrire  inscription  rumeur  total  \n",
       "Eugénie Grandet    0.53    0.30    0.00    0.21         0.29    0.00   0.57  \n",
       "Ursule Mirouët     0.47    0.61    0.19    0.46         2.20    0.20   0.65  \n",
       "Vie parisienne     0.36    0.47    0.29    0.31         0.20    0.09   0.47  "
      ]
     },
     "execution_count": 327,
     "metadata": {},
     "output_type": "execute_result"
    }
   ],
   "source": [
    "count(parole)"
   ]
  },
  {
   "cell_type": "code",
   "execution_count": 219,
   "id": "61d75a65",
   "metadata": {},
   "outputs": [
    {
     "data": {
      "text/html": [
       "<div>\n",
       "<style scoped>\n",
       "    .dataframe tbody tr th:only-of-type {\n",
       "        vertical-align: middle;\n",
       "    }\n",
       "\n",
       "    .dataframe tbody tr th {\n",
       "        vertical-align: top;\n",
       "    }\n",
       "\n",
       "    .dataframe thead th {\n",
       "        text-align: right;\n",
       "    }\n",
       "</style>\n",
       "<table border=\"1\" class=\"dataframe\">\n",
       "  <thead>\n",
       "    <tr style=\"text-align: right;\">\n",
       "      <th></th>\n",
       "      <th>vieux</th>\n",
       "      <th>jeune</th>\n",
       "      <th>vieillard</th>\n",
       "      <th>total</th>\n",
       "    </tr>\n",
       "  </thead>\n",
       "  <tbody>\n",
       "    <tr>\n",
       "      <th>Eugénie Grandet</th>\n",
       "      <td>0.94</td>\n",
       "      <td>0.45</td>\n",
       "      <td>0.07</td>\n",
       "      <td>0.56</td>\n",
       "    </tr>\n",
       "    <tr>\n",
       "      <th>Ursule Mirouët</th>\n",
       "      <td>1.20</td>\n",
       "      <td>0.53</td>\n",
       "      <td>0.75</td>\n",
       "      <td>0.94</td>\n",
       "    </tr>\n",
       "    <tr>\n",
       "      <th>Vie parisienne</th>\n",
       "      <td>0.42</td>\n",
       "      <td>0.38</td>\n",
       "      <td>0.20</td>\n",
       "      <td>0.39</td>\n",
       "    </tr>\n",
       "  </tbody>\n",
       "</table>\n",
       "</div>"
      ],
      "text/plain": [
       "                 vieux  jeune  vieillard  total\n",
       "Eugénie Grandet   0.94   0.45       0.07   0.56\n",
       "Ursule Mirouët    1.20   0.53       0.75   0.94\n",
       "Vie parisienne    0.42   0.38       0.20   0.39"
      ]
     },
     "execution_count": 219,
     "metadata": {},
     "output_type": "execute_result"
    }
   ],
   "source": [
    "count(age)"
   ]
  },
  {
   "cell_type": "code",
   "execution_count": 220,
   "id": "8c441794",
   "metadata": {},
   "outputs": [
    {
     "data": {
      "text/html": [
       "<div>\n",
       "<style scoped>\n",
       "    .dataframe tbody tr th:only-of-type {\n",
       "        vertical-align: middle;\n",
       "    }\n",
       "\n",
       "    .dataframe tbody tr th {\n",
       "        vertical-align: top;\n",
       "    }\n",
       "\n",
       "    .dataframe thead th {\n",
       "        text-align: right;\n",
       "    }\n",
       "</style>\n",
       "<table border=\"1\" class=\"dataframe\">\n",
       "  <thead>\n",
       "    <tr style=\"text-align: right;\">\n",
       "      <th></th>\n",
       "      <th>argent</th>\n",
       "      <th>or</th>\n",
       "      <th>pièce</th>\n",
       "      <th>riche</th>\n",
       "      <th>pauvre</th>\n",
       "      <th>héritier</th>\n",
       "      <th>héritage</th>\n",
       "      <th>total</th>\n",
       "    </tr>\n",
       "  </thead>\n",
       "  <tbody>\n",
       "    <tr>\n",
       "      <th>Eugénie Grandet</th>\n",
       "      <td>0.68</td>\n",
       "      <td>0.32</td>\n",
       "      <td>0.37</td>\n",
       "      <td>0.23</td>\n",
       "      <td>0.63</td>\n",
       "      <td>0.47</td>\n",
       "      <td>0.12</td>\n",
       "      <td>0.48</td>\n",
       "    </tr>\n",
       "    <tr>\n",
       "      <th>Ursule Mirouët</th>\n",
       "      <td>0.35</td>\n",
       "      <td>0.01</td>\n",
       "      <td>0.08</td>\n",
       "      <td>0.29</td>\n",
       "      <td>0.41</td>\n",
       "      <td>1.51</td>\n",
       "      <td>0.69</td>\n",
       "      <td>0.30</td>\n",
       "    </tr>\n",
       "    <tr>\n",
       "      <th>Vie parisienne</th>\n",
       "      <td>0.43</td>\n",
       "      <td>0.05</td>\n",
       "      <td>0.21</td>\n",
       "      <td>0.11</td>\n",
       "      <td>0.51</td>\n",
       "      <td>0.11</td>\n",
       "      <td>0.15</td>\n",
       "      <td>0.19</td>\n",
       "    </tr>\n",
       "  </tbody>\n",
       "</table>\n",
       "</div>"
      ],
      "text/plain": [
       "                 argent   or  pièce  riche  pauvre  héritier  héritage  total\n",
       "Eugénie Grandet    0.68 0.32   0.37   0.23    0.63      0.47      0.12   0.48\n",
       "Ursule Mirouët     0.35 0.01   0.08   0.29    0.41      1.51      0.69   0.30\n",
       "Vie parisienne     0.43 0.05   0.21   0.11    0.51      0.11      0.15   0.19"
      ]
     },
     "execution_count": 220,
     "metadata": {},
     "output_type": "execute_result"
    }
   ],
   "source": [
    "count(argent, True)"
   ]
  },
  {
   "cell_type": "code",
   "execution_count": 300,
   "id": "b53394d1",
   "metadata": {},
   "outputs": [
    {
     "data": {
      "text/html": [
       "<div>\n",
       "<style scoped>\n",
       "    .dataframe tbody tr th:only-of-type {\n",
       "        vertical-align: middle;\n",
       "    }\n",
       "\n",
       "    .dataframe tbody tr th {\n",
       "        vertical-align: top;\n",
       "    }\n",
       "\n",
       "    .dataframe thead th {\n",
       "        text-align: right;\n",
       "    }\n",
       "</style>\n",
       "<table border=\"1\" class=\"dataframe\">\n",
       "  <thead>\n",
       "    <tr style=\"text-align: right;\">\n",
       "      <th></th>\n",
       "      <th>entendre</th>\n",
       "      <th>regarder</th>\n",
       "      <th>voir</th>\n",
       "      <th>parler</th>\n",
       "      <th>paraître</th>\n",
       "      <th>reconnaître</th>\n",
       "      <th>sourire</th>\n",
       "      <th>penser</th>\n",
       "      <th>total</th>\n",
       "    </tr>\n",
       "  </thead>\n",
       "  <tbody>\n",
       "    <tr>\n",
       "      <th>Eugénie Grandet</th>\n",
       "      <td>0.71</td>\n",
       "      <td>0.77</td>\n",
       "      <td>0.52</td>\n",
       "      <td>0.29</td>\n",
       "      <td>0.48</td>\n",
       "      <td>-0.04</td>\n",
       "      <td>0.27</td>\n",
       "      <td>1.02</td>\n",
       "      <td>0.75</td>\n",
       "    </tr>\n",
       "    <tr>\n",
       "      <th>Ursule Mirouët</th>\n",
       "      <td>0.37</td>\n",
       "      <td>0.63</td>\n",
       "      <td>0.68</td>\n",
       "      <td>0.37</td>\n",
       "      <td>0.56</td>\n",
       "      <td>0.43</td>\n",
       "      <td>0.57</td>\n",
       "      <td>0.82</td>\n",
       "      <td>0.78</td>\n",
       "    </tr>\n",
       "    <tr>\n",
       "      <th>Vie parisienne</th>\n",
       "      <td>0.33</td>\n",
       "      <td>0.53</td>\n",
       "      <td>0.47</td>\n",
       "      <td>0.39</td>\n",
       "      <td>0.49</td>\n",
       "      <td>0.38</td>\n",
       "      <td>0.38</td>\n",
       "      <td>0.49</td>\n",
       "      <td>0.47</td>\n",
       "    </tr>\n",
       "  </tbody>\n",
       "</table>\n",
       "</div>"
      ],
      "text/plain": [
       "                 entendre  regarder  voir  parler  paraître  reconnaître  \\\n",
       "Eugénie Grandet      0.71      0.77  0.52    0.29      0.48        -0.04   \n",
       "Ursule Mirouët       0.37      0.63  0.68    0.37      0.56         0.43   \n",
       "Vie parisienne       0.33      0.53  0.47    0.39      0.49         0.38   \n",
       "\n",
       "                 sourire  penser  total  \n",
       "Eugénie Grandet     0.27    1.02   0.75  \n",
       "Ursule Mirouët      0.57    0.82   0.78  \n",
       "Vie parisienne      0.38    0.49   0.47  "
      ]
     },
     "execution_count": 300,
     "metadata": {},
     "output_type": "execute_result"
    }
   ],
   "source": [
    "count(passivité, False, [\"regard\", \"regarder\"])"
   ]
  },
  {
   "cell_type": "code",
   "execution_count": 288,
   "id": "06d9016e",
   "metadata": {},
   "outputs": [
    {
     "data": {
      "text/html": [
       "<div>\n",
       "<style scoped>\n",
       "    .dataframe tbody tr th:only-of-type {\n",
       "        vertical-align: middle;\n",
       "    }\n",
       "\n",
       "    .dataframe tbody tr th {\n",
       "        vertical-align: top;\n",
       "    }\n",
       "\n",
       "    .dataframe thead th {\n",
       "        text-align: right;\n",
       "    }\n",
       "</style>\n",
       "<table border=\"1\" class=\"dataframe\">\n",
       "  <thead>\n",
       "    <tr style=\"text-align: right;\">\n",
       "      <th></th>\n",
       "      <th>secret</th>\n",
       "      <th>silence</th>\n",
       "      <th>taire</th>\n",
       "      <th>muet</th>\n",
       "      <th>doucement</th>\n",
       "      <th>total</th>\n",
       "    </tr>\n",
       "  </thead>\n",
       "  <tbody>\n",
       "    <tr>\n",
       "      <th>Eugénie Grandet</th>\n",
       "      <td>0.40</td>\n",
       "      <td>0.48</td>\n",
       "      <td>0.59</td>\n",
       "      <td>1.27</td>\n",
       "      <td>0.64</td>\n",
       "      <td>0.59</td>\n",
       "    </tr>\n",
       "    <tr>\n",
       "      <th>Ursule Mirouët</th>\n",
       "      <td>0.34</td>\n",
       "      <td>0.36</td>\n",
       "      <td>0.15</td>\n",
       "      <td>0.07</td>\n",
       "      <td>0.51</td>\n",
       "      <td>0.30</td>\n",
       "    </tr>\n",
       "    <tr>\n",
       "      <th>Vie parisienne</th>\n",
       "      <td>0.39</td>\n",
       "      <td>0.31</td>\n",
       "      <td>0.33</td>\n",
       "      <td>0.32</td>\n",
       "      <td>0.36</td>\n",
       "      <td>0.36</td>\n",
       "    </tr>\n",
       "  </tbody>\n",
       "</table>\n",
       "</div>"
      ],
      "text/plain": [
       "                 secret  silence  taire  muet  doucement  total\n",
       "Eugénie Grandet    0.40     0.48   0.59  1.27       0.64   0.59\n",
       "Ursule Mirouët     0.34     0.36   0.15  0.07       0.51   0.30\n",
       "Vie parisienne     0.39     0.31   0.33  0.32       0.36   0.36"
      ]
     },
     "execution_count": 288,
     "metadata": {},
     "output_type": "execute_result"
    }
   ],
   "source": [
    "count(silence, False, [\"silencieux\", \"silence\"])"
   ]
  },
  {
   "cell_type": "code",
   "execution_count": 223,
   "id": "76b1249b",
   "metadata": {},
   "outputs": [
    {
     "data": {
      "text/html": [
       "<div>\n",
       "<style scoped>\n",
       "    .dataframe tbody tr th:only-of-type {\n",
       "        vertical-align: middle;\n",
       "    }\n",
       "\n",
       "    .dataframe tbody tr th {\n",
       "        vertical-align: top;\n",
       "    }\n",
       "\n",
       "    .dataframe thead th {\n",
       "        text-align: right;\n",
       "    }\n",
       "</style>\n",
       "<table border=\"1\" class=\"dataframe\">\n",
       "  <thead>\n",
       "    <tr style=\"text-align: right;\">\n",
       "      <th></th>\n",
       "      <th>mort</th>\n",
       "      <th>magnétisme</th>\n",
       "      <th>âme</th>\n",
       "      <th>Dieu</th>\n",
       "      <th>église</th>\n",
       "      <th>prier</th>\n",
       "      <th>rêve</th>\n",
       "      <th>total</th>\n",
       "    </tr>\n",
       "  </thead>\n",
       "  <tbody>\n",
       "    <tr>\n",
       "      <th>Eugénie Grandet</th>\n",
       "      <td>0.32</td>\n",
       "      <td>0.00</td>\n",
       "      <td>0.40</td>\n",
       "      <td>0.43</td>\n",
       "      <td>0.40</td>\n",
       "      <td>0.39</td>\n",
       "      <td>0.04</td>\n",
       "      <td>0.50</td>\n",
       "    </tr>\n",
       "    <tr>\n",
       "      <th>Ursule Mirouët</th>\n",
       "      <td>0.42</td>\n",
       "      <td>1.38</td>\n",
       "      <td>0.48</td>\n",
       "      <td>1.08</td>\n",
       "      <td>1.25</td>\n",
       "      <td>1.19</td>\n",
       "      <td>0.43</td>\n",
       "      <td>1.00</td>\n",
       "    </tr>\n",
       "    <tr>\n",
       "      <th>Vie parisienne</th>\n",
       "      <td>0.29</td>\n",
       "      <td>0.14</td>\n",
       "      <td>0.32</td>\n",
       "      <td>0.31</td>\n",
       "      <td>0.39</td>\n",
       "      <td>0.46</td>\n",
       "      <td>0.15</td>\n",
       "      <td>0.45</td>\n",
       "    </tr>\n",
       "  </tbody>\n",
       "</table>\n",
       "</div>"
      ],
      "text/plain": [
       "                 mort  magnétisme  âme  Dieu  église  prier  rêve  total\n",
       "Eugénie Grandet  0.32        0.00 0.40  0.43    0.40   0.39  0.04   0.50\n",
       "Ursule Mirouët   0.42        1.38 0.48  1.08    1.25   1.19  0.43   1.00\n",
       "Vie parisienne   0.29        0.14 0.32  0.31    0.39   0.46  0.15   0.45"
      ]
     },
     "execution_count": 223,
     "metadata": {},
     "output_type": "execute_result"
    }
   ],
   "source": [
    "count(religion)"
   ]
  },
  {
   "cell_type": "code",
   "execution_count": 224,
   "id": "105554eb",
   "metadata": {},
   "outputs": [
    {
     "data": {
      "text/html": [
       "<div>\n",
       "<style scoped>\n",
       "    .dataframe tbody tr th:only-of-type {\n",
       "        vertical-align: middle;\n",
       "    }\n",
       "\n",
       "    .dataframe tbody tr th {\n",
       "        vertical-align: top;\n",
       "    }\n",
       "\n",
       "    .dataframe thead th {\n",
       "        text-align: right;\n",
       "    }\n",
       "</style>\n",
       "<table border=\"1\" class=\"dataframe\">\n",
       "  <thead>\n",
       "    <tr style=\"text-align: right;\">\n",
       "      <th></th>\n",
       "      <th>fille</th>\n",
       "      <th>mère</th>\n",
       "      <th>mademoiselle</th>\n",
       "      <th>dame</th>\n",
       "      <th>total</th>\n",
       "    </tr>\n",
       "  </thead>\n",
       "  <tbody>\n",
       "    <tr>\n",
       "      <th>Eugénie Grandet</th>\n",
       "      <td>0.93</td>\n",
       "      <td>1.54</td>\n",
       "      <td>0.91</td>\n",
       "      <td>0.22</td>\n",
       "      <td>1.25</td>\n",
       "    </tr>\n",
       "    <tr>\n",
       "      <th>Ursule Mirouët</th>\n",
       "      <td>0.46</td>\n",
       "      <td>0.92</td>\n",
       "      <td>0.49</td>\n",
       "      <td>0.46</td>\n",
       "      <td>0.70</td>\n",
       "    </tr>\n",
       "    <tr>\n",
       "      <th>Vie parisienne</th>\n",
       "      <td>0.34</td>\n",
       "      <td>0.37</td>\n",
       "      <td>0.24</td>\n",
       "      <td>0.22</td>\n",
       "      <td>0.34</td>\n",
       "    </tr>\n",
       "  </tbody>\n",
       "</table>\n",
       "</div>"
      ],
      "text/plain": [
       "                 fille  mère  mademoiselle  dame  total\n",
       "Eugénie Grandet   0.93  1.54          0.91  0.22   1.25\n",
       "Ursule Mirouët    0.46  0.92          0.49  0.46   0.70\n",
       "Vie parisienne    0.34  0.37          0.24  0.22   0.34"
      ]
     },
     "execution_count": 224,
     "metadata": {},
     "output_type": "execute_result"
    }
   ],
   "source": [
    "count(féminin)"
   ]
  },
  {
   "cell_type": "code",
   "execution_count": 225,
   "id": "82fb2fb6",
   "metadata": {},
   "outputs": [
    {
     "data": {
      "text/html": [
       "<div>\n",
       "<style scoped>\n",
       "    .dataframe tbody tr th:only-of-type {\n",
       "        vertical-align: middle;\n",
       "    }\n",
       "\n",
       "    .dataframe tbody tr th {\n",
       "        vertical-align: top;\n",
       "    }\n",
       "\n",
       "    .dataframe thead th {\n",
       "        text-align: right;\n",
       "    }\n",
       "</style>\n",
       "<table border=\"1\" class=\"dataframe\">\n",
       "  <thead>\n",
       "    <tr style=\"text-align: right;\">\n",
       "      <th></th>\n",
       "      <th>penser</th>\n",
       "      <th>intérêt</th>\n",
       "      <th>pensée</th>\n",
       "      <th>connaître</th>\n",
       "      <th>savoir</th>\n",
       "      <th>idée</th>\n",
       "      <th>apprendre</th>\n",
       "      <th>total</th>\n",
       "    </tr>\n",
       "  </thead>\n",
       "  <tbody>\n",
       "    <tr>\n",
       "      <th>Eugénie Grandet</th>\n",
       "      <td>1.02</td>\n",
       "      <td>0.83</td>\n",
       "      <td>0.53</td>\n",
       "      <td>0.47</td>\n",
       "      <td>0.42</td>\n",
       "      <td>0.15</td>\n",
       "      <td>0.68</td>\n",
       "      <td>0.74</td>\n",
       "    </tr>\n",
       "    <tr>\n",
       "      <th>Ursule Mirouët</th>\n",
       "      <td>0.82</td>\n",
       "      <td>0.59</td>\n",
       "      <td>0.46</td>\n",
       "      <td>0.37</td>\n",
       "      <td>0.43</td>\n",
       "      <td>0.22</td>\n",
       "      <td>0.93</td>\n",
       "      <td>0.66</td>\n",
       "    </tr>\n",
       "    <tr>\n",
       "      <th>Vie parisienne</th>\n",
       "      <td>0.50</td>\n",
       "      <td>0.42</td>\n",
       "      <td>0.30</td>\n",
       "      <td>0.66</td>\n",
       "      <td>0.43</td>\n",
       "      <td>0.16</td>\n",
       "      <td>0.52</td>\n",
       "      <td>0.47</td>\n",
       "    </tr>\n",
       "  </tbody>\n",
       "</table>\n",
       "</div>"
      ],
      "text/plain": [
       "                 penser  intérêt  pensée  connaître  savoir  idée  apprendre  \\\n",
       "Eugénie Grandet    1.02     0.83    0.53       0.47    0.42  0.15       0.68   \n",
       "Ursule Mirouët     0.82     0.59    0.46       0.37    0.43  0.22       0.93   \n",
       "Vie parisienne     0.50     0.42    0.30       0.66    0.43  0.16       0.52   \n",
       "\n",
       "                 total  \n",
       "Eugénie Grandet   0.74  \n",
       "Ursule Mirouët    0.66  \n",
       "Vie parisienne    0.47  "
      ]
     },
     "execution_count": 225,
     "metadata": {},
     "output_type": "execute_result"
    }
   ],
   "source": [
    "count(connaissance, True)"
   ]
  },
  {
   "cell_type": "code",
   "execution_count": 226,
   "id": "0913b3bd",
   "metadata": {},
   "outputs": [
    {
     "data": {
      "text/html": [
       "<div>\n",
       "<style scoped>\n",
       "    .dataframe tbody tr th:only-of-type {\n",
       "        vertical-align: middle;\n",
       "    }\n",
       "\n",
       "    .dataframe tbody tr th {\n",
       "        vertical-align: top;\n",
       "    }\n",
       "\n",
       "    .dataframe thead th {\n",
       "        text-align: right;\n",
       "    }\n",
       "</style>\n",
       "<table border=\"1\" class=\"dataframe\">\n",
       "  <thead>\n",
       "    <tr style=\"text-align: right;\">\n",
       "      <th></th>\n",
       "      <th>cœur</th>\n",
       "      <th>amour</th>\n",
       "      <th>sentiment</th>\n",
       "      <th>enfant</th>\n",
       "      <th>aimer</th>\n",
       "      <th>total</th>\n",
       "    </tr>\n",
       "  </thead>\n",
       "  <tbody>\n",
       "    <tr>\n",
       "      <th>Eugénie Grandet</th>\n",
       "      <td>0.61</td>\n",
       "      <td>0.31</td>\n",
       "      <td>0.52</td>\n",
       "      <td>0.46</td>\n",
       "      <td>0.23</td>\n",
       "      <td>0.43</td>\n",
       "    </tr>\n",
       "    <tr>\n",
       "      <th>Ursule Mirouët</th>\n",
       "      <td>0.47</td>\n",
       "      <td>0.20</td>\n",
       "      <td>0.32</td>\n",
       "      <td>0.69</td>\n",
       "      <td>0.37</td>\n",
       "      <td>0.41</td>\n",
       "    </tr>\n",
       "    <tr>\n",
       "      <th>Vie parisienne</th>\n",
       "      <td>0.42</td>\n",
       "      <td>0.27</td>\n",
       "      <td>0.28</td>\n",
       "      <td>0.33</td>\n",
       "      <td>0.40</td>\n",
       "      <td>0.36</td>\n",
       "    </tr>\n",
       "  </tbody>\n",
       "</table>\n",
       "</div>"
      ],
      "text/plain": [
       "                 cœur  amour  sentiment  enfant  aimer  total\n",
       "Eugénie Grandet  0.61   0.31       0.52    0.46   0.23   0.43\n",
       "Ursule Mirouët   0.47   0.20       0.32    0.69   0.37   0.41\n",
       "Vie parisienne   0.42   0.27       0.28    0.33   0.40   0.36"
      ]
     },
     "execution_count": 226,
     "metadata": {},
     "output_type": "execute_result"
    }
   ],
   "source": [
    "count(sentiment)"
   ]
  },
  {
   "cell_type": "code",
   "execution_count": 227,
   "id": "fcd322eb",
   "metadata": {
    "scrolled": true
   },
   "outputs": [
    {
     "data": {
      "text/html": [
       "<div>\n",
       "<style scoped>\n",
       "    .dataframe tbody tr th:only-of-type {\n",
       "        vertical-align: middle;\n",
       "    }\n",
       "\n",
       "    .dataframe tbody tr th {\n",
       "        vertical-align: top;\n",
       "    }\n",
       "\n",
       "    .dataframe thead th {\n",
       "        text-align: right;\n",
       "    }\n",
       "</style>\n",
       "<table border=\"1\" class=\"dataframe\">\n",
       "  <thead>\n",
       "    <tr style=\"text-align: right;\">\n",
       "      <th></th>\n",
       "      <th>moment</th>\n",
       "      <th>heure</th>\n",
       "      <th>toujours</th>\n",
       "      <th>jamais</th>\n",
       "      <th>temps</th>\n",
       "      <th>mois</th>\n",
       "      <th>année</th>\n",
       "      <th>jour</th>\n",
       "      <th>minute</th>\n",
       "      <th>total</th>\n",
       "    </tr>\n",
       "  </thead>\n",
       "  <tbody>\n",
       "    <tr>\n",
       "      <th>Eugénie Grandet</th>\n",
       "      <td>0.50</td>\n",
       "      <td>0.43</td>\n",
       "      <td>0.50</td>\n",
       "      <td>0.38</td>\n",
       "      <td>0.56</td>\n",
       "      <td>0.53</td>\n",
       "      <td>0.81</td>\n",
       "      <td>0.50</td>\n",
       "      <td>0.02</td>\n",
       "      <td>0.65</td>\n",
       "    </tr>\n",
       "    <tr>\n",
       "      <th>Ursule Mirouët</th>\n",
       "      <td>0.29</td>\n",
       "      <td>0.28</td>\n",
       "      <td>0.40</td>\n",
       "      <td>0.33</td>\n",
       "      <td>0.53</td>\n",
       "      <td>0.37</td>\n",
       "      <td>0.51</td>\n",
       "      <td>0.35</td>\n",
       "      <td>0.13</td>\n",
       "      <td>0.30</td>\n",
       "    </tr>\n",
       "    <tr>\n",
       "      <th>Vie parisienne</th>\n",
       "      <td>0.31</td>\n",
       "      <td>0.52</td>\n",
       "      <td>0.53</td>\n",
       "      <td>0.38</td>\n",
       "      <td>0.50</td>\n",
       "      <td>0.37</td>\n",
       "      <td>0.30</td>\n",
       "      <td>0.36</td>\n",
       "      <td>0.20</td>\n",
       "      <td>0.41</td>\n",
       "    </tr>\n",
       "  </tbody>\n",
       "</table>\n",
       "</div>"
      ],
      "text/plain": [
       "                 moment  heure  toujours  jamais  temps  mois  année  jour  \\\n",
       "Eugénie Grandet    0.50   0.43      0.50    0.38   0.56  0.53   0.81  0.50   \n",
       "Ursule Mirouët     0.29   0.28      0.40    0.33   0.53  0.37   0.51  0.35   \n",
       "Vie parisienne     0.31   0.52      0.53    0.38   0.50  0.37   0.30  0.36   \n",
       "\n",
       "                 minute  total  \n",
       "Eugénie Grandet    0.02   0.65  \n",
       "Ursule Mirouët     0.13   0.30  \n",
       "Vie parisienne     0.20   0.41  "
      ]
     },
     "execution_count": 227,
     "metadata": {},
     "output_type": "execute_result"
    }
   ],
   "source": [
    "count(temps)"
   ]
  },
  {
   "cell_type": "code",
   "execution_count": 228,
   "id": "40371bbf",
   "metadata": {},
   "outputs": [
    {
     "data": {
      "text/html": [
       "<div>\n",
       "<style scoped>\n",
       "    .dataframe tbody tr th:only-of-type {\n",
       "        vertical-align: middle;\n",
       "    }\n",
       "\n",
       "    .dataframe tbody tr th {\n",
       "        vertical-align: top;\n",
       "    }\n",
       "\n",
       "    .dataframe thead th {\n",
       "        text-align: right;\n",
       "    }\n",
       "</style>\n",
       "<table border=\"1\" class=\"dataframe\">\n",
       "  <thead>\n",
       "    <tr style=\"text-align: right;\">\n",
       "      <th></th>\n",
       "      <th>désir</th>\n",
       "      <th>désirer</th>\n",
       "      <th>vouloir</th>\n",
       "      <th>total</th>\n",
       "    </tr>\n",
       "  </thead>\n",
       "  <tbody>\n",
       "    <tr>\n",
       "      <th>Eugénie Grandet</th>\n",
       "      <td>0.22</td>\n",
       "      <td>0.41</td>\n",
       "      <td>0.71</td>\n",
       "      <td>0.66</td>\n",
       "    </tr>\n",
       "    <tr>\n",
       "      <th>Ursule Mirouët</th>\n",
       "      <td>0.19</td>\n",
       "      <td>0.23</td>\n",
       "      <td>0.71</td>\n",
       "      <td>0.64</td>\n",
       "    </tr>\n",
       "    <tr>\n",
       "      <th>Vie parisienne</th>\n",
       "      <td>0.28</td>\n",
       "      <td>0.39</td>\n",
       "      <td>0.58</td>\n",
       "      <td>0.56</td>\n",
       "    </tr>\n",
       "  </tbody>\n",
       "</table>\n",
       "</div>"
      ],
      "text/plain": [
       "                 désir  désirer  vouloir  total\n",
       "Eugénie Grandet   0.22     0.41     0.71   0.66\n",
       "Ursule Mirouët    0.19     0.23     0.71   0.64\n",
       "Vie parisienne    0.28     0.39     0.58   0.56"
      ]
     },
     "execution_count": 228,
     "metadata": {},
     "output_type": "execute_result"
    }
   ],
   "source": [
    "count(désir)"
   ]
  },
  {
   "cell_type": "code",
   "execution_count": 37,
   "id": "2abbb3d0",
   "metadata": {},
   "outputs": [
    {
     "data": {
      "text/html": [
       "<div>\n",
       "<style scoped>\n",
       "    .dataframe tbody tr th:only-of-type {\n",
       "        vertical-align: middle;\n",
       "    }\n",
       "\n",
       "    .dataframe tbody tr th {\n",
       "        vertical-align: top;\n",
       "    }\n",
       "\n",
       "    .dataframe thead th {\n",
       "        text-align: right;\n",
       "    }\n",
       "</style>\n",
       "<table border=\"1\" class=\"dataframe\">\n",
       "  <thead>\n",
       "    <tr style=\"text-align: right;\">\n",
       "      <th></th>\n",
       "      <th>ami</th>\n",
       "      <th>monde</th>\n",
       "      <th>total</th>\n",
       "    </tr>\n",
       "    <tr>\n",
       "      <th></th>\n",
       "      <th></th>\n",
       "      <th></th>\n",
       "      <th></th>\n",
       "    </tr>\n",
       "  </thead>\n",
       "  <tbody>\n",
       "    <tr>\n",
       "      <th>Eugénie Grandet</th>\n",
       "      <td>0.28</td>\n",
       "      <td>0.08</td>\n",
       "      <td>0.18</td>\n",
       "    </tr>\n",
       "    <tr>\n",
       "      <th>Ursule Mirouët</th>\n",
       "      <td>0.39</td>\n",
       "      <td>0.12</td>\n",
       "      <td>0.27</td>\n",
       "    </tr>\n",
       "    <tr>\n",
       "      <th>Vie parisienne</th>\n",
       "      <td>0.41</td>\n",
       "      <td>0.17</td>\n",
       "      <td>0.32</td>\n",
       "    </tr>\n",
       "  </tbody>\n",
       "</table>\n",
       "</div>"
      ],
      "text/plain": [
       "                  ami  monde  total\n",
       "                                   \n",
       "Eugénie Grandet  0.28   0.08   0.18\n",
       "Ursule Mirouët   0.39   0.12   0.27\n",
       "Vie parisienne   0.41   0.17   0.32"
      ]
     },
     "execution_count": 37,
     "metadata": {},
     "output_type": "execute_result"
    }
   ],
   "source": [
    "count(influence)"
   ]
  },
  {
   "cell_type": "code",
   "execution_count": 230,
   "id": "a0a2706b",
   "metadata": {},
   "outputs": [
    {
     "data": {
      "text/html": [
       "<div>\n",
       "<style scoped>\n",
       "    .dataframe tbody tr th:only-of-type {\n",
       "        vertical-align: middle;\n",
       "    }\n",
       "\n",
       "    .dataframe tbody tr th {\n",
       "        vertical-align: top;\n",
       "    }\n",
       "\n",
       "    .dataframe thead th {\n",
       "        text-align: right;\n",
       "    }\n",
       "</style>\n",
       "<table border=\"1\" class=\"dataframe\">\n",
       "  <thead>\n",
       "    <tr style=\"text-align: right;\">\n",
       "      <th></th>\n",
       "      <th>maison</th>\n",
       "      <th>porte</th>\n",
       "      <th>seul</th>\n",
       "      <th>chambre</th>\n",
       "      <th>fenêtre</th>\n",
       "      <th>total</th>\n",
       "    </tr>\n",
       "  </thead>\n",
       "  <tbody>\n",
       "    <tr>\n",
       "      <th>Eugénie Grandet</th>\n",
       "      <td>0.62</td>\n",
       "      <td>1.03</td>\n",
       "      <td>0.57</td>\n",
       "      <td>0.65</td>\n",
       "      <td>0.49</td>\n",
       "      <td>1.11</td>\n",
       "    </tr>\n",
       "    <tr>\n",
       "      <th>Ursule Mirouët</th>\n",
       "      <td>0.50</td>\n",
       "      <td>0.09</td>\n",
       "      <td>0.52</td>\n",
       "      <td>0.40</td>\n",
       "      <td>0.94</td>\n",
       "      <td>0.64</td>\n",
       "    </tr>\n",
       "    <tr>\n",
       "      <th>Vie parisienne</th>\n",
       "      <td>0.39</td>\n",
       "      <td>0.44</td>\n",
       "      <td>0.45</td>\n",
       "      <td>0.50</td>\n",
       "      <td>0.29</td>\n",
       "      <td>0.61</td>\n",
       "    </tr>\n",
       "  </tbody>\n",
       "</table>\n",
       "</div>"
      ],
      "text/plain": [
       "                 maison  porte  seul  chambre  fenêtre  total\n",
       "Eugénie Grandet    0.62   1.03  0.57     0.65     0.49   1.11\n",
       "Ursule Mirouët     0.50   0.09  0.52     0.40     0.94   0.64\n",
       "Vie parisienne     0.39   0.44  0.45     0.50     0.29   0.61"
      ]
     },
     "execution_count": 230,
     "metadata": {},
     "output_type": "execute_result"
    }
   ],
   "source": [
    "count(privé)"
   ]
  },
  {
   "cell_type": "code",
   "execution_count": 231,
   "id": "64c9fc44",
   "metadata": {},
   "outputs": [
    {
     "data": {
      "text/html": [
       "<div>\n",
       "<style scoped>\n",
       "    .dataframe tbody tr th:only-of-type {\n",
       "        vertical-align: middle;\n",
       "    }\n",
       "\n",
       "    .dataframe tbody tr th {\n",
       "        vertical-align: top;\n",
       "    }\n",
       "\n",
       "    .dataframe thead th {\n",
       "        text-align: right;\n",
       "    }\n",
       "</style>\n",
       "<table border=\"1\" class=\"dataframe\">\n",
       "  <thead>\n",
       "    <tr style=\"text-align: right;\">\n",
       "      <th></th>\n",
       "      <th>père</th>\n",
       "      <th>homme</th>\n",
       "      <th>famille</th>\n",
       "      <th>fort</th>\n",
       "      <th>fils</th>\n",
       "      <th>maître</th>\n",
       "      <th>cousin</th>\n",
       "      <th>total</th>\n",
       "    </tr>\n",
       "  </thead>\n",
       "  <tbody>\n",
       "    <tr>\n",
       "      <th>Eugénie Grandet</th>\n",
       "      <td>2.00</td>\n",
       "      <td>0.01</td>\n",
       "      <td>0.23</td>\n",
       "      <td>0.42</td>\n",
       "      <td>0.45</td>\n",
       "      <td>0.73</td>\n",
       "      <td>0.81</td>\n",
       "      <td>1.26</td>\n",
       "    </tr>\n",
       "    <tr>\n",
       "      <th>Ursule Mirouët</th>\n",
       "      <td>0.32</td>\n",
       "      <td>0.08</td>\n",
       "      <td>0.15</td>\n",
       "      <td>0.14</td>\n",
       "      <td>1.61</td>\n",
       "      <td>1.09</td>\n",
       "      <td>0.14</td>\n",
       "      <td>0.63</td>\n",
       "    </tr>\n",
       "    <tr>\n",
       "      <th>Vie parisienne</th>\n",
       "      <td>0.29</td>\n",
       "      <td>0.37</td>\n",
       "      <td>0.17</td>\n",
       "      <td>0.38</td>\n",
       "      <td>0.35</td>\n",
       "      <td>0.28</td>\n",
       "      <td>0.12</td>\n",
       "      <td>0.47</td>\n",
       "    </tr>\n",
       "  </tbody>\n",
       "</table>\n",
       "</div>"
      ],
      "text/plain": [
       "                 père  homme  famille  fort  fils  maître  cousin  total\n",
       "Eugénie Grandet  2.00   0.01     0.23  0.42  0.45    0.73    0.81   1.26\n",
       "Ursule Mirouët   0.32   0.08     0.15  0.14  1.61    1.09    0.14   0.63\n",
       "Vie parisienne   0.29   0.37     0.17  0.38  0.35    0.28    0.12   0.47"
      ]
     },
     "execution_count": 231,
     "metadata": {},
     "output_type": "execute_result"
    }
   ],
   "source": [
    "count(patriarcat)"
   ]
  },
  {
   "cell_type": "code",
   "execution_count": 232,
   "id": "3ea7dba9",
   "metadata": {
    "scrolled": true
   },
   "outputs": [
    {
     "data": {
      "text/html": [
       "<div>\n",
       "<style scoped>\n",
       "    .dataframe tbody tr th:only-of-type {\n",
       "        vertical-align: middle;\n",
       "    }\n",
       "\n",
       "    .dataframe tbody tr th {\n",
       "        vertical-align: top;\n",
       "    }\n",
       "\n",
       "    .dataframe thead th {\n",
       "        text-align: right;\n",
       "    }\n",
       "</style>\n",
       "<table border=\"1\" class=\"dataframe\">\n",
       "  <thead>\n",
       "    <tr style=\"text-align: right;\">\n",
       "      <th></th>\n",
       "      <th>musique</th>\n",
       "      <th>piano</th>\n",
       "      <th>total</th>\n",
       "    </tr>\n",
       "  </thead>\n",
       "  <tbody>\n",
       "    <tr>\n",
       "      <th>Eugénie Grandet</th>\n",
       "      <td>0.00</td>\n",
       "      <td>0.00</td>\n",
       "      <td>0.00</td>\n",
       "    </tr>\n",
       "    <tr>\n",
       "      <th>Ursule Mirouët</th>\n",
       "      <td>0.42</td>\n",
       "      <td>0.47</td>\n",
       "      <td>0.67</td>\n",
       "    </tr>\n",
       "    <tr>\n",
       "      <th>Vie parisienne</th>\n",
       "      <td>0.18</td>\n",
       "      <td>0.09</td>\n",
       "      <td>0.23</td>\n",
       "    </tr>\n",
       "  </tbody>\n",
       "</table>\n",
       "</div>"
      ],
      "text/plain": [
       "                 musique  piano  total\n",
       "Eugénie Grandet     0.00   0.00   0.00\n",
       "Ursule Mirouët      0.42   0.47   0.67\n",
       "Vie parisienne      0.18   0.09   0.23"
      ]
     },
     "execution_count": 232,
     "metadata": {},
     "output_type": "execute_result"
    }
   ],
   "source": [
    "count(musique, True)"
   ]
  },
  {
   "cell_type": "markdown",
   "id": "e4a45f6d",
   "metadata": {},
   "source": [
    "## Comptage de la ponctuation"
   ]
  },
  {
   "cell_type": "markdown",
   "id": "8866c3a9",
   "metadata": {},
   "source": [
    "Procédons de même pour la ponctuation"
   ]
  },
  {
   "cell_type": "code",
   "execution_count": 154,
   "id": "25a54a84",
   "metadata": {},
   "outputs": [],
   "source": [
    "def punct_counter(index):\n",
    "    puncts = Counter()\n",
    "    for token in texts[\"doc\"][index]:\n",
    "        if token.pos_ == \"PUNCT\":\n",
    "            puncts.update([token.lemma_])\n",
    "    return puncts"
   ]
  },
  {
   "cell_type": "code",
   "execution_count": 163,
   "id": "fba6e5f9",
   "metadata": {},
   "outputs": [
    {
     "data": {
      "text/plain": [
       "[(',', 6069),\n",
       " ('.', 2970),\n",
       " ('–', 1013),\n",
       " ('!', 453),\n",
       " ('?', 393),\n",
       " (';', 329),\n",
       " ('...', 247),\n",
       " (':', 173),\n",
       " ('....', 23),\n",
       " ('«', 22),\n",
       " ('�', 20),\n",
       " ('»', 20),\n",
       " ('(', 10),\n",
       " (')', 10),\n",
       " ('..', 4),\n",
       " ('-', 2)]"
      ]
     },
     "execution_count": 163,
     "metadata": {},
     "output_type": "execute_result"
    }
   ],
   "source": [
    "punct_counter(0).most_common()"
   ]
  },
  {
   "cell_type": "markdown",
   "id": "4e23268e",
   "metadata": {},
   "source": [
    "On peut ensuite réappliquer la fonction d'au dessus pour la ponctuation"
   ]
  },
  {
   "cell_type": "code",
   "execution_count": 361,
   "id": "156df273",
   "metadata": {},
   "outputs": [],
   "source": [
    "dic = [\"...\", \"…\", \",\", \".\", \"–\", \"!\", \"?\", \";\", \":\", \"etc.\"]\n",
    "\n",
    "# Initialization\n",
    "index_labels = [\"Eugénie Grandet\", \"Ursule Mirouët\", \"Vie parisienne\"]\n",
    "df = {}\n",
    "nb_vp = len(texts) - 3\n",
    "for word in dic: \n",
    "    df[word] = []\n",
    "                   \n",
    "# EG and UM\n",
    "EG_counter = punct_counter(0)\n",
    "EG_len = sum(EG_counter.values())\n",
    "UM_counter = punct_counter(1)\n",
    "UM_len = sum(UM_counter.values())\n",
    "for word in dic:\n",
    "    if word in EG_counter.keys():\n",
    "        df[word].append(EG_counter[word] / EG_len)\n",
    "    else:\n",
    "        df[word].append(0)\n",
    "    if word in UM_counter.keys():\n",
    "        df[word].append(UM_counter[word] / UM_len)\n",
    "    else:\n",
    "        df[word].append(0)\n",
    "\n",
    "# Vie parisienne\n",
    "for word in dic: \n",
    "    df[word] += [0, 0, -1, -1]\n",
    "length_vp = 0\n",
    "for i in range(2, len(texts)-1): \n",
    "    _counter = punct_counter(i)\n",
    "    _len = sum(_counter.values())\n",
    "    length_vp += _len\n",
    "    for word in dic:\n",
    "        if word in _counter.keys():\n",
    "            df[word][2] += _counter[word] / _len / nb_vp\n",
    "            df[word][3] += _counter[word]\n",
    "            if df[word][4] == -1 or df[word][4] > _counter[word] / _len:\n",
    "                df[word][4] = _counter[word] / _len\n",
    "            if df[word][5] == -1 or df[word][5] < _counter[word] / _len:\n",
    "                df[word][5] = _counter[word] / _len\n",
    "        else:\n",
    "            df[word][4] = 0\n",
    "            if df[word][5] == -1:\n",
    "                df[word][5] = 0\n",
    "    \n",
    "# Aggregation\n",
    "df[\"…\"][0] += df[\"...\"][0]\n",
    "df[\"…\"][1] += df[\"...\"][1]\n",
    "df[\"…\"][2] += df[\"...\"][2]\n",
    "df[\"…\"][3] += df[\"...\"][3]\n",
    "if df[\"…\"][4] > df[\"...\"][4]: df[\"…\"][4] = df[\"...\"][4]\n",
    "if df[\"…\"][5] < df[\"...\"][5]: df[\"…\"][5] = df[\"...\"][5]\n",
    "del df[\"...\"]\n",
    "\n",
    "# Normalization\n",
    "for word in dic[1:]:\n",
    "    df[word][3] /= length_vp\n",
    "    \n",
    "for word in dic[1:]: \n",
    "    for i in range(4):\n",
    "        fact = 1\n",
    "        if df[word][5] == 0:\n",
    "            df[word][5] = max(df[word][0], df[word][1])\n",
    "            if df[word][5] == 0: \n",
    "                df[word][5] = 1\n",
    "        elif df[word][5] == df[word][4]:\n",
    "            df[word][4] = 0\n",
    "        df[word][i] = floor(((df[word][i] - df[word][4]) / (df[word][5] - df[word][4])) * 100) / 100\n",
    "    df[word] = df[word][:-3]\n",
    "punctable_freqpunct = pd.DataFrame(df, index=index_labels)"
   ]
  },
  {
   "cell_type": "code",
   "execution_count": 362,
   "id": "d6608ad7",
   "metadata": {},
   "outputs": [
    {
     "data": {
      "text/html": [
       "<div>\n",
       "<style scoped>\n",
       "    .dataframe tbody tr th:only-of-type {\n",
       "        vertical-align: middle;\n",
       "    }\n",
       "\n",
       "    .dataframe tbody tr th {\n",
       "        vertical-align: top;\n",
       "    }\n",
       "\n",
       "    .dataframe thead th {\n",
       "        text-align: right;\n",
       "    }\n",
       "</style>\n",
       "<table border=\"1\" class=\"dataframe\">\n",
       "  <thead>\n",
       "    <tr style=\"text-align: right;\">\n",
       "      <th></th>\n",
       "      <th>…</th>\n",
       "      <th>,</th>\n",
       "      <th>.</th>\n",
       "      <th>–</th>\n",
       "      <th>!</th>\n",
       "      <th>?</th>\n",
       "      <th>;</th>\n",
       "      <th>:</th>\n",
       "      <th>etc.</th>\n",
       "    </tr>\n",
       "  </thead>\n",
       "  <tbody>\n",
       "    <tr>\n",
       "      <th>Eugénie Grandet</th>\n",
       "      <td>0.25</td>\n",
       "      <td>0.50</td>\n",
       "      <td>0.75</td>\n",
       "      <td>0.71</td>\n",
       "      <td>0.12</td>\n",
       "      <td>0.78</td>\n",
       "      <td>0.12</td>\n",
       "      <td>0.45</td>\n",
       "      <td>0.00</td>\n",
       "    </tr>\n",
       "    <tr>\n",
       "      <th>Ursule Mirouët</th>\n",
       "      <td>0.13</td>\n",
       "      <td>0.52</td>\n",
       "      <td>0.76</td>\n",
       "      <td>0.00</td>\n",
       "      <td>0.10</td>\n",
       "      <td>0.75</td>\n",
       "      <td>0.19</td>\n",
       "      <td>0.66</td>\n",
       "      <td>0.10</td>\n",
       "    </tr>\n",
       "    <tr>\n",
       "      <th>Vie parisienne</th>\n",
       "      <td>0.38</td>\n",
       "      <td>0.59</td>\n",
       "      <td>0.47</td>\n",
       "      <td>0.55</td>\n",
       "      <td>0.33</td>\n",
       "      <td>0.51</td>\n",
       "      <td>0.23</td>\n",
       "      <td>0.44</td>\n",
       "      <td>0.19</td>\n",
       "    </tr>\n",
       "  </tbody>\n",
       "</table>\n",
       "</div>"
      ],
      "text/plain": [
       "                   …    ,    .    –    !    ?    ;    :  etc.\n",
       "Eugénie Grandet 0.25 0.50 0.75 0.71 0.12 0.78 0.12 0.45  0.00\n",
       "Ursule Mirouët  0.13 0.52 0.76 0.00 0.10 0.75 0.19 0.66  0.10\n",
       "Vie parisienne  0.38 0.59 0.47 0.55 0.33 0.51 0.23 0.44  0.19"
      ]
     },
     "execution_count": 362,
     "metadata": {},
     "output_type": "execute_result"
    }
   ],
   "source": [
    "punctable_freqpunct"
   ]
  },
  {
   "cell_type": "markdown",
   "id": "3d223992",
   "metadata": {},
   "source": [
    "On peut aussi établir l'indice en fonction du nombre de mots intéressants:"
   ]
  },
  {
   "cell_type": "code",
   "execution_count": 363,
   "id": "54932499",
   "metadata": {},
   "outputs": [],
   "source": [
    "dic = [\"...\", \"…\", \",\", \".\", \"–\", \"!\", \"?\", \";\", \":\", \"etc.\"]\n",
    "\n",
    "# Initialization\n",
    "index_labels = [\"Eugénie Grandet\", \"Ursule Mirouët\", \"Vie parisienne\"]\n",
    "df = {}\n",
    "nb_vp = len(texts) - 3\n",
    "for word in dic: \n",
    "    df[word] = []\n",
    "                   \n",
    "# EG and UM\n",
    "EG_counter = punct_counter(0)\n",
    "EG_len = sum(get_counter(0).values())\n",
    "UM_counter = punct_counter(1)\n",
    "UM_len = sum(get_counter(1).values())\n",
    "for word in dic:\n",
    "    if word in EG_counter.keys():\n",
    "        df[word].append(EG_counter[word] / EG_len)\n",
    "    else:\n",
    "        df[word].append(0)\n",
    "    if word in UM_counter.keys():\n",
    "        df[word].append(UM_counter[word] / UM_len)\n",
    "    else:\n",
    "        df[word].append(0)\n",
    "\n",
    "# Vie parisienne\n",
    "for word in dic: \n",
    "    df[word] += [0, 0, -1, -1]\n",
    "length_vp = 0\n",
    "for i in range(2, len(texts)-1): \n",
    "    _counter = punct_counter(i)\n",
    "    _len = sum(get_counter(i).values())\n",
    "    length_vp += _len\n",
    "    for word in dic:\n",
    "        if word in _counter.keys():\n",
    "            df[word][2] += _counter[word] / _len / nb_vp\n",
    "            df[word][3] += _counter[word]\n",
    "            if df[word][4] == -1 or df[word][4] > _counter[word] / _len:\n",
    "                df[word][4] = _counter[word] / _len\n",
    "            if df[word][5] == -1 or df[word][5] < _counter[word] / _len:\n",
    "                df[word][5] = _counter[word] / _len\n",
    "        else:\n",
    "            df[word][4] = 0\n",
    "            if df[word][5] == -1:\n",
    "                df[word][5] = 0\n",
    "    \n",
    "# Aggregation\n",
    "df[\"…\"][0] += df[\"...\"][0]\n",
    "df[\"…\"][1] += df[\"...\"][1]\n",
    "df[\"…\"][2] += df[\"...\"][2]\n",
    "df[\"…\"][3] += df[\"...\"][3]\n",
    "if df[\"…\"][4] > df[\"...\"][4]: df[\"…\"][4] = df[\"...\"][4]\n",
    "if df[\"…\"][5] < df[\"...\"][5]: df[\"…\"][5] = df[\"...\"][5]\n",
    "del df[\"...\"]\n",
    "\n",
    "# Normalization\n",
    "for word in dic[1:]:\n",
    "    df[word][3] /= length_vp\n",
    "    \n",
    "for word in dic[1:]: \n",
    "    for i in range(4):\n",
    "        fact = 1\n",
    "        if df[word][5] == 0:\n",
    "            df[word][5] = max(df[word][0], df[word][1])\n",
    "            if df[word][5] == 0: \n",
    "                df[word][5] = 1\n",
    "        elif df[word][5] == df[word][4]:\n",
    "            df[word][4] = 0\n",
    "        df[word][i] = floor(((df[word][i] - df[word][4]) / (df[word][5] - df[word][4])) * 100) / 100\n",
    "    df[word] = df[word][:-3]\n",
    "punctable_freqword = pd.DataFrame(df, index=index_labels)"
   ]
  },
  {
   "cell_type": "code",
   "execution_count": 364,
   "id": "30e4eaa8",
   "metadata": {},
   "outputs": [
    {
     "data": {
      "text/html": [
       "<div>\n",
       "<style scoped>\n",
       "    .dataframe tbody tr th:only-of-type {\n",
       "        vertical-align: middle;\n",
       "    }\n",
       "\n",
       "    .dataframe tbody tr th {\n",
       "        vertical-align: top;\n",
       "    }\n",
       "\n",
       "    .dataframe thead th {\n",
       "        text-align: right;\n",
       "    }\n",
       "</style>\n",
       "<table border=\"1\" class=\"dataframe\">\n",
       "  <thead>\n",
       "    <tr style=\"text-align: right;\">\n",
       "      <th></th>\n",
       "      <th>…</th>\n",
       "      <th>,</th>\n",
       "      <th>.</th>\n",
       "      <th>–</th>\n",
       "      <th>!</th>\n",
       "      <th>?</th>\n",
       "      <th>;</th>\n",
       "      <th>:</th>\n",
       "      <th>etc.</th>\n",
       "    </tr>\n",
       "  </thead>\n",
       "  <tbody>\n",
       "    <tr>\n",
       "      <th>Eugénie Grandet</th>\n",
       "      <td>0.24</td>\n",
       "      <td>0.45</td>\n",
       "      <td>0.99</td>\n",
       "      <td>0.64</td>\n",
       "      <td>0.14</td>\n",
       "      <td>0.69</td>\n",
       "      <td>0.16</td>\n",
       "      <td>0.47</td>\n",
       "      <td>0.00</td>\n",
       "    </tr>\n",
       "    <tr>\n",
       "      <th>Ursule Mirouët</th>\n",
       "      <td>0.10</td>\n",
       "      <td>-0.01</td>\n",
       "      <td>0.55</td>\n",
       "      <td>0.00</td>\n",
       "      <td>0.06</td>\n",
       "      <td>0.49</td>\n",
       "      <td>0.15</td>\n",
       "      <td>0.54</td>\n",
       "      <td>0.08</td>\n",
       "    </tr>\n",
       "    <tr>\n",
       "      <th>Vie parisienne</th>\n",
       "      <td>0.36</td>\n",
       "      <td>0.38</td>\n",
       "      <td>0.49</td>\n",
       "      <td>0.48</td>\n",
       "      <td>0.30</td>\n",
       "      <td>0.43</td>\n",
       "      <td>0.26</td>\n",
       "      <td>0.42</td>\n",
       "      <td>0.18</td>\n",
       "    </tr>\n",
       "  </tbody>\n",
       "</table>\n",
       "</div>"
      ],
      "text/plain": [
       "                   …     ,    .    –    !    ?    ;    :  etc.\n",
       "Eugénie Grandet 0.24  0.45 0.99 0.64 0.14 0.69 0.16 0.47  0.00\n",
       "Ursule Mirouët  0.10 -0.01 0.55 0.00 0.06 0.49 0.15 0.54  0.08\n",
       "Vie parisienne  0.36  0.38 0.49 0.48 0.30 0.43 0.26 0.42  0.18"
      ]
     },
     "execution_count": 364,
     "metadata": {},
     "output_type": "execute_result"
    }
   ],
   "source": [
    "punctable_freqword"
   ]
  },
  {
   "cell_type": "markdown",
   "id": "55d8a5e3",
   "metadata": {},
   "source": [
    "Il y a de manière générale peu de différence entre les deux manières de calculer l'indice. Cependant, pour les signes de ponctuation très utilisés (\".\", \",\"), la différence est notable, en particulier pour l'indice de Ursule Mirouët qui se retrouve écrasé. "
   ]
  },
  {
   "cell_type": "markdown",
   "id": "a20af24d",
   "metadata": {},
   "source": [
    "## Sauvegarde et restauration"
   ]
  },
  {
   "cell_type": "markdown",
   "id": "766e6fa1",
   "metadata": {},
   "source": [
    "A ce point là, on souhaite pouvoir redémarrer le kernel sans répéter toutes les opération précédentes. On veut donc sauvegarder les tableaux au format CSV. "
   ]
  },
  {
   "cell_type": "code",
   "execution_count": 336,
   "id": "1e5d086f",
   "metadata": {},
   "outputs": [],
   "source": [
    "def save_csv(df, name):\n",
    "    df.to_csv(\"./csv/\" + name + \".csv\")"
   ]
  },
  {
   "cell_type": "code",
   "execution_count": 337,
   "id": "d381a370",
   "metadata": {},
   "outputs": [],
   "source": [
    "save_csv(count(parole), \"parole\")"
   ]
  },
  {
   "cell_type": "markdown",
   "id": "60a7c1f3",
   "metadata": {},
   "source": [
    "On veut de même pouvoir récupérer ces données."
   ]
  },
  {
   "cell_type": "code",
   "execution_count": 3,
   "id": "ccc596de",
   "metadata": {},
   "outputs": [],
   "source": [
    "def get_csv(name):\n",
    "    df = pd.read_csv(\"./csv/\" + name + \".csv\")\n",
    "    return df.set_index(df[\"Unnamed: 0\"].rename(\"\")).drop(\"Unnamed: 0\", axis=1)"
   ]
  },
  {
   "cell_type": "code",
   "execution_count": 4,
   "id": "4a8d978f",
   "metadata": {},
   "outputs": [
    {
     "data": {
      "text/html": [
       "<div>\n",
       "<style scoped>\n",
       "    .dataframe tbody tr th:only-of-type {\n",
       "        vertical-align: middle;\n",
       "    }\n",
       "\n",
       "    .dataframe tbody tr th {\n",
       "        vertical-align: top;\n",
       "    }\n",
       "\n",
       "    .dataframe thead th {\n",
       "        text-align: right;\n",
       "    }\n",
       "</style>\n",
       "<table border=\"1\" class=\"dataframe\">\n",
       "  <thead>\n",
       "    <tr style=\"text-align: right;\">\n",
       "      <th></th>\n",
       "      <th>dire</th>\n",
       "      <th>répondre</th>\n",
       "      <th>entendre</th>\n",
       "      <th>demander</th>\n",
       "      <th>mot</th>\n",
       "      <th>voix</th>\n",
       "      <th>lettre</th>\n",
       "      <th>parole</th>\n",
       "      <th>écrier</th>\n",
       "      <th>bavard</th>\n",
       "      <th>écrire</th>\n",
       "      <th>inscription</th>\n",
       "      <th>rumeur</th>\n",
       "      <th>total</th>\n",
       "    </tr>\n",
       "    <tr>\n",
       "      <th></th>\n",
       "      <th></th>\n",
       "      <th></th>\n",
       "      <th></th>\n",
       "      <th></th>\n",
       "      <th></th>\n",
       "      <th></th>\n",
       "      <th></th>\n",
       "      <th></th>\n",
       "      <th></th>\n",
       "      <th></th>\n",
       "      <th></th>\n",
       "      <th></th>\n",
       "      <th></th>\n",
       "      <th></th>\n",
       "    </tr>\n",
       "  </thead>\n",
       "  <tbody>\n",
       "    <tr>\n",
       "      <th>Eugénie Grandet</th>\n",
       "      <td>0.55</td>\n",
       "      <td>0.44</td>\n",
       "      <td>0.71</td>\n",
       "      <td>0.12</td>\n",
       "      <td>0.20</td>\n",
       "      <td>0.22</td>\n",
       "      <td>0.44</td>\n",
       "      <td>0.53</td>\n",
       "      <td>0.30</td>\n",
       "      <td>0.00</td>\n",
       "      <td>0.21</td>\n",
       "      <td>0.29</td>\n",
       "      <td>0.00</td>\n",
       "      <td>0.57</td>\n",
       "    </tr>\n",
       "    <tr>\n",
       "      <th>Ursule Mirouët</th>\n",
       "      <td>0.51</td>\n",
       "      <td>0.64</td>\n",
       "      <td>0.37</td>\n",
       "      <td>0.24</td>\n",
       "      <td>0.13</td>\n",
       "      <td>0.20</td>\n",
       "      <td>0.72</td>\n",
       "      <td>0.47</td>\n",
       "      <td>0.61</td>\n",
       "      <td>0.19</td>\n",
       "      <td>0.46</td>\n",
       "      <td>2.20</td>\n",
       "      <td>0.20</td>\n",
       "      <td>0.65</td>\n",
       "    </tr>\n",
       "    <tr>\n",
       "      <th>Vie parisienne</th>\n",
       "      <td>0.43</td>\n",
       "      <td>0.34</td>\n",
       "      <td>0.33</td>\n",
       "      <td>0.26</td>\n",
       "      <td>0.28</td>\n",
       "      <td>0.16</td>\n",
       "      <td>0.35</td>\n",
       "      <td>0.35</td>\n",
       "      <td>0.45</td>\n",
       "      <td>0.23</td>\n",
       "      <td>0.33</td>\n",
       "      <td>0.18</td>\n",
       "      <td>0.08</td>\n",
       "      <td>0.45</td>\n",
       "    </tr>\n",
       "  </tbody>\n",
       "</table>\n",
       "</div>"
      ],
      "text/plain": [
       "                 dire  répondre  entendre  demander   mot  voix  lettre  \\\n",
       "                                                                          \n",
       "Eugénie Grandet  0.55      0.44      0.71      0.12  0.20  0.22    0.44   \n",
       "Ursule Mirouët   0.51      0.64      0.37      0.24  0.13  0.20    0.72   \n",
       "Vie parisienne   0.43      0.34      0.33      0.26  0.28  0.16    0.35   \n",
       "\n",
       "                 parole  écrier  bavard  écrire  inscription  rumeur  total  \n",
       "                                                                             \n",
       "Eugénie Grandet    0.53    0.30    0.00    0.21         0.29    0.00   0.57  \n",
       "Ursule Mirouët     0.47    0.61    0.19    0.46         2.20    0.20   0.65  \n",
       "Vie parisienne     0.35    0.45    0.23    0.33         0.18    0.08   0.45  "
      ]
     },
     "execution_count": 4,
     "metadata": {},
     "output_type": "execute_result"
    }
   ],
   "source": [
    "parole = get_csv(\"parole\")\n",
    "parole"
   ]
  },
  {
   "cell_type": "code",
   "execution_count": 357,
   "id": "109af68b",
   "metadata": {},
   "outputs": [
    {
     "data": {
      "text/html": [
       "<div>\n",
       "<style scoped>\n",
       "    .dataframe tbody tr th:only-of-type {\n",
       "        vertical-align: middle;\n",
       "    }\n",
       "\n",
       "    .dataframe tbody tr th {\n",
       "        vertical-align: top;\n",
       "    }\n",
       "\n",
       "    .dataframe thead th {\n",
       "        text-align: right;\n",
       "    }\n",
       "</style>\n",
       "<table border=\"1\" class=\"dataframe\">\n",
       "  <thead>\n",
       "    <tr style=\"text-align: right;\">\n",
       "      <th></th>\n",
       "      <th>dire</th>\n",
       "      <th>répondre</th>\n",
       "      <th>entendre</th>\n",
       "      <th>demander</th>\n",
       "      <th>mot</th>\n",
       "      <th>voix</th>\n",
       "      <th>lettre</th>\n",
       "      <th>parole</th>\n",
       "      <th>écrier</th>\n",
       "      <th>bavard</th>\n",
       "      <th>écrire</th>\n",
       "      <th>inscription</th>\n",
       "      <th>rumeur</th>\n",
       "      <th>total</th>\n",
       "    </tr>\n",
       "  </thead>\n",
       "  <tbody>\n",
       "    <tr>\n",
       "      <th>Eugénie Grandet</th>\n",
       "      <td>0.55</td>\n",
       "      <td>0.44</td>\n",
       "      <td>0.71</td>\n",
       "      <td>0.12</td>\n",
       "      <td>0.20</td>\n",
       "      <td>0.22</td>\n",
       "      <td>0.44</td>\n",
       "      <td>0.53</td>\n",
       "      <td>0.30</td>\n",
       "      <td>0.00</td>\n",
       "      <td>0.21</td>\n",
       "      <td>0.29</td>\n",
       "      <td>0.00</td>\n",
       "      <td>0.57</td>\n",
       "    </tr>\n",
       "    <tr>\n",
       "      <th>Ursule Mirouët</th>\n",
       "      <td>0.51</td>\n",
       "      <td>0.64</td>\n",
       "      <td>0.37</td>\n",
       "      <td>0.24</td>\n",
       "      <td>0.13</td>\n",
       "      <td>0.20</td>\n",
       "      <td>0.72</td>\n",
       "      <td>0.47</td>\n",
       "      <td>0.61</td>\n",
       "      <td>0.19</td>\n",
       "      <td>0.46</td>\n",
       "      <td>2.20</td>\n",
       "      <td>0.20</td>\n",
       "      <td>0.65</td>\n",
       "    </tr>\n",
       "    <tr>\n",
       "      <th>Vie parisienne</th>\n",
       "      <td>0.43</td>\n",
       "      <td>0.34</td>\n",
       "      <td>0.33</td>\n",
       "      <td>0.26</td>\n",
       "      <td>0.28</td>\n",
       "      <td>0.16</td>\n",
       "      <td>0.35</td>\n",
       "      <td>0.35</td>\n",
       "      <td>0.45</td>\n",
       "      <td>0.23</td>\n",
       "      <td>0.33</td>\n",
       "      <td>0.18</td>\n",
       "      <td>0.08</td>\n",
       "      <td>0.45</td>\n",
       "    </tr>\n",
       "  </tbody>\n",
       "</table>\n",
       "</div>"
      ],
      "text/plain": [
       "                 dire  répondre  entendre  demander  mot  voix  lettre  \\\n",
       "Eugénie Grandet  0.55      0.44      0.71      0.12 0.20  0.22    0.44   \n",
       "Ursule Mirouët   0.51      0.64      0.37      0.24 0.13  0.20    0.72   \n",
       "Vie parisienne   0.43      0.34      0.33      0.26 0.28  0.16    0.35   \n",
       "\n",
       "                 parole  écrier  bavard  écrire  inscription  rumeur  total  \n",
       "Eugénie Grandet    0.53    0.30    0.00    0.21         0.29    0.00   0.57  \n",
       "Ursule Mirouët     0.47    0.61    0.19    0.46         2.20    0.20   0.65  \n",
       "Vie parisienne     0.35    0.45    0.23    0.33         0.18    0.08   0.45  "
      ]
     },
     "execution_count": 357,
     "metadata": {},
     "output_type": "execute_result"
    }
   ],
   "source": [
    "count(parole)"
   ]
  },
  {
   "cell_type": "markdown",
   "id": "064cc545",
   "metadata": {},
   "source": [
    "On voit que rien n'a changé. On itère donc ces opérations pour tous les tableaux"
   ]
  },
  {
   "cell_type": "code",
   "execution_count": 367,
   "id": "15726b87",
   "metadata": {},
   "outputs": [],
   "source": [
    "save_csv(count(parole), \"parole\")\n",
    "save_csv(count(age), \"age\")\n",
    "save_csv(count(connaissance, True), \"connaissance\")\n",
    "save_csv(count(argent, True), \"argent\")\n",
    "save_csv(count(passivité, False, [\"regard\", \"regarder\"]), \"passivite\")\n",
    "save_csv(count(silence, False, [\"silencieux\", \"silence\"]), \"silence\")\n",
    "save_csv(count(religion), \"religion\")\n",
    "save_csv(count(féminin), \"feminin\")\n",
    "save_csv(count(sentiment), \"sentiment\")\n",
    "save_csv(count(temps), \"temps\")\n",
    "save_csv(count(influence), \"influence\")\n",
    "save_csv(count(désir), \"desir\")\n",
    "save_csv(count(privé), \"prive\")\n",
    "save_csv(count(patriarcat), \"patriarcat\")\n",
    "save_csv(count(musique, True), \"musique\")\n",
    "save_csv(count(social), \"social\")"
   ]
  },
  {
   "cell_type": "code",
   "execution_count": 1,
   "id": "85680d00",
   "metadata": {},
   "outputs": [],
   "source": [
    "import pandas as pd\n",
    "import numpy as np"
   ]
  },
  {
   "cell_type": "code",
   "execution_count": 17,
   "id": "b8012694",
   "metadata": {},
   "outputs": [],
   "source": [
    "parole = get_csv(\"parole\")\n",
    "age = get_csv(\"age\")\n",
    "connaissance = get_csv(\"connaissance\")\n",
    "argent = get_csv(\"argent\")\n",
    "passivité = get_csv(\"passivite\")\n",
    "silence = get_csv(\"silence\")\n",
    "religion = get_csv(\"religion\")\n",
    "féminin = get_csv(\"feminin\")\n",
    "sentiment = get_csv(\"sentiment\")\n",
    "temps = get_csv(\"temps\")\n",
    "influence = get_csv(\"influence\")\n",
    "désir = get_csv(\"desir\")\n",
    "privé = get_csv(\"prive\")\n",
    "patriarcat = get_csv(\"patriarcat\")\n",
    "musique = get_csv(\"musique\")\n",
    "social = get_csv(\"social\")"
   ]
  },
  {
   "cell_type": "markdown",
   "id": "f7edfc2f",
   "metadata": {},
   "source": [
    "## Affichage joli"
   ]
  },
  {
   "cell_type": "markdown",
   "id": "c9062a6f",
   "metadata": {},
   "source": [
    "On aimerait résumer joliment tous les nombres intéressants en graphiques"
   ]
  },
  {
   "cell_type": "markdown",
   "id": "c2b7b155",
   "metadata": {},
   "source": [
    "On peut d'abord mettre de la couleur et un titre aux tableaux. "
   ]
  },
  {
   "cell_type": "code",
   "execution_count": 40,
   "id": "c3cca961",
   "metadata": {},
   "outputs": [],
   "source": [
    "import matplotlib\n",
    "def pretty_table(table, name):\n",
    "    def make_pretty(styler):\n",
    "        styler.set_caption(\"Comparaison d'apparitions \" + name)\n",
    "        styler.format(precision=2, decimal=\",\") \n",
    "        styler.background_gradient(axis=None, vmax = 1, cmap=\"YlGn\")\n",
    "        return styler\n",
    "    return table.style.pipe(make_pretty)"
   ]
  },
  {
   "cell_type": "code",
   "execution_count": 41,
   "id": "a2ad442f",
   "metadata": {},
   "outputs": [
    {
     "data": {
      "text/html": [
       "<style type=\"text/css\">\n",
       "#T_89ebd_row0_col0 {\n",
       "  background-color: #b5e092;\n",
       "  color: #000000;\n",
       "}\n",
       "#T_89ebd_row0_col1 {\n",
       "  background-color: #92d183;\n",
       "  color: #000000;\n",
       "}\n",
       "#T_89ebd_row0_col2, #T_89ebd_row0_col5 {\n",
       "  background-color: #5db96b;\n",
       "  color: #f1f1f1;\n",
       "}\n",
       "#T_89ebd_row0_col3 {\n",
       "  background-color: #004529;\n",
       "  color: #f1f1f1;\n",
       "}\n",
       "#T_89ebd_row0_col4 {\n",
       "  background-color: #47ae60;\n",
       "  color: #f1f1f1;\n",
       "}\n",
       "#T_89ebd_row1_col0 {\n",
       "  background-color: #cbea9c;\n",
       "  color: #000000;\n",
       "}\n",
       "#T_89ebd_row1_col1, #T_89ebd_row2_col4, #T_89ebd_row2_col5 {\n",
       "  background-color: #c4e799;\n",
       "  color: #000000;\n",
       "}\n",
       "#T_89ebd_row1_col2 {\n",
       "  background-color: #f9fdc7;\n",
       "  color: #000000;\n",
       "}\n",
       "#T_89ebd_row1_col3 {\n",
       "  background-color: #ffffe5;\n",
       "  color: #000000;\n",
       "}\n",
       "#T_89ebd_row1_col4 {\n",
       "  background-color: #83cb7d;\n",
       "  color: #000000;\n",
       "}\n",
       "#T_89ebd_row1_col5 {\n",
       "  background-color: #daf0a4;\n",
       "  color: #000000;\n",
       "}\n",
       "#T_89ebd_row2_col0 {\n",
       "  background-color: #b8e293;\n",
       "  color: #000000;\n",
       "}\n",
       "#T_89ebd_row2_col1 {\n",
       "  background-color: #d6efa2;\n",
       "  color: #000000;\n",
       "}\n",
       "#T_89ebd_row2_col2 {\n",
       "  background-color: #cfec9e;\n",
       "  color: #000000;\n",
       "}\n",
       "#T_89ebd_row2_col3 {\n",
       "  background-color: #d3eda0;\n",
       "  color: #000000;\n",
       "}\n",
       "</style>\n",
       "<table id=\"T_89ebd\">\n",
       "  <caption>Comparaison d'apparitions du silence</caption>\n",
       "  <thead>\n",
       "    <tr>\n",
       "      <th class=\"blank level0\" >&nbsp;</th>\n",
       "      <th id=\"T_89ebd_level0_col0\" class=\"col_heading level0 col0\" >secret</th>\n",
       "      <th id=\"T_89ebd_level0_col1\" class=\"col_heading level0 col1\" >silence</th>\n",
       "      <th id=\"T_89ebd_level0_col2\" class=\"col_heading level0 col2\" >taire</th>\n",
       "      <th id=\"T_89ebd_level0_col3\" class=\"col_heading level0 col3\" >muet</th>\n",
       "      <th id=\"T_89ebd_level0_col4\" class=\"col_heading level0 col4\" >doucement</th>\n",
       "      <th id=\"T_89ebd_level0_col5\" class=\"col_heading level0 col5\" >total</th>\n",
       "    </tr>\n",
       "    <tr>\n",
       "      <th class=\"index_name level0\" ></th>\n",
       "      <th class=\"blank col0\" >&nbsp;</th>\n",
       "      <th class=\"blank col1\" >&nbsp;</th>\n",
       "      <th class=\"blank col2\" >&nbsp;</th>\n",
       "      <th class=\"blank col3\" >&nbsp;</th>\n",
       "      <th class=\"blank col4\" >&nbsp;</th>\n",
       "      <th class=\"blank col5\" >&nbsp;</th>\n",
       "    </tr>\n",
       "  </thead>\n",
       "  <tbody>\n",
       "    <tr>\n",
       "      <th id=\"T_89ebd_level0_row0\" class=\"row_heading level0 row0\" >Eugénie Grandet</th>\n",
       "      <td id=\"T_89ebd_row0_col0\" class=\"data row0 col0\" >0,40</td>\n",
       "      <td id=\"T_89ebd_row0_col1\" class=\"data row0 col1\" >0,48</td>\n",
       "      <td id=\"T_89ebd_row0_col2\" class=\"data row0 col2\" >0,59</td>\n",
       "      <td id=\"T_89ebd_row0_col3\" class=\"data row0 col3\" >1,27</td>\n",
       "      <td id=\"T_89ebd_row0_col4\" class=\"data row0 col4\" >0,64</td>\n",
       "      <td id=\"T_89ebd_row0_col5\" class=\"data row0 col5\" >0,59</td>\n",
       "    </tr>\n",
       "    <tr>\n",
       "      <th id=\"T_89ebd_level0_row1\" class=\"row_heading level0 row1\" >Ursule Mirouët</th>\n",
       "      <td id=\"T_89ebd_row1_col0\" class=\"data row1 col0\" >0,34</td>\n",
       "      <td id=\"T_89ebd_row1_col1\" class=\"data row1 col1\" >0,36</td>\n",
       "      <td id=\"T_89ebd_row1_col2\" class=\"data row1 col2\" >0,15</td>\n",
       "      <td id=\"T_89ebd_row1_col3\" class=\"data row1 col3\" >0,07</td>\n",
       "      <td id=\"T_89ebd_row1_col4\" class=\"data row1 col4\" >0,51</td>\n",
       "      <td id=\"T_89ebd_row1_col5\" class=\"data row1 col5\" >0,30</td>\n",
       "    </tr>\n",
       "    <tr>\n",
       "      <th id=\"T_89ebd_level0_row2\" class=\"row_heading level0 row2\" >Vie parisienne</th>\n",
       "      <td id=\"T_89ebd_row2_col0\" class=\"data row2 col0\" >0,39</td>\n",
       "      <td id=\"T_89ebd_row2_col1\" class=\"data row2 col1\" >0,31</td>\n",
       "      <td id=\"T_89ebd_row2_col2\" class=\"data row2 col2\" >0,33</td>\n",
       "      <td id=\"T_89ebd_row2_col3\" class=\"data row2 col3\" >0,32</td>\n",
       "      <td id=\"T_89ebd_row2_col4\" class=\"data row2 col4\" >0,36</td>\n",
       "      <td id=\"T_89ebd_row2_col5\" class=\"data row2 col5\" >0,36</td>\n",
       "    </tr>\n",
       "  </tbody>\n",
       "</table>\n"
      ],
      "text/plain": [
       "<pandas.io.formats.style.Styler at 0x26958fea190>"
      ]
     },
     "execution_count": 41,
     "metadata": {},
     "output_type": "execute_result"
    }
   ],
   "source": [
    "pretty_table(silence, \"du silence\")"
   ]
  },
  {
   "cell_type": "code",
   "execution_count": 42,
   "id": "7b143117",
   "metadata": {},
   "outputs": [
    {
     "data": {
      "text/html": [
       "<style type=\"text/css\">\n",
       "#T_69f03_row0_col0 {\n",
       "  background-color: #005d33;\n",
       "  color: #f1f1f1;\n",
       "}\n",
       "#T_69f03_row0_col1, #T_69f03_row0_col4 {\n",
       "  background-color: #004529;\n",
       "  color: #f1f1f1;\n",
       "}\n",
       "#T_69f03_row0_col2 {\n",
       "  background-color: #006536;\n",
       "  color: #f1f1f1;\n",
       "}\n",
       "#T_69f03_row0_col3, #T_69f03_row2_col3 {\n",
       "  background-color: #ffffe5;\n",
       "  color: #000000;\n",
       "}\n",
       "#T_69f03_row1_col0, #T_69f03_row1_col3 {\n",
       "  background-color: #c5e89a;\n",
       "  color: #000000;\n",
       "}\n",
       "#T_69f03_row1_col1 {\n",
       "  background-color: #006234;\n",
       "  color: #f1f1f1;\n",
       "}\n",
       "#T_69f03_row1_col2 {\n",
       "  background-color: #b8e293;\n",
       "  color: #000000;\n",
       "}\n",
       "#T_69f03_row1_col4 {\n",
       "  background-color: #45ad5f;\n",
       "  color: #f1f1f1;\n",
       "}\n",
       "#T_69f03_row2_col0, #T_69f03_row2_col4 {\n",
       "  background-color: #f0f9b4;\n",
       "  color: #000000;\n",
       "}\n",
       "#T_69f03_row2_col1 {\n",
       "  background-color: #e7f6ad;\n",
       "  color: #000000;\n",
       "}\n",
       "#T_69f03_row2_col2 {\n",
       "  background-color: #fdfedd;\n",
       "  color: #000000;\n",
       "}\n",
       "</style>\n",
       "<table id=\"T_69f03\">\n",
       "  <caption>Comparaison d'apparitions des personnages féminins</caption>\n",
       "  <thead>\n",
       "    <tr>\n",
       "      <th class=\"blank level0\" >&nbsp;</th>\n",
       "      <th id=\"T_69f03_level0_col0\" class=\"col_heading level0 col0\" >fille</th>\n",
       "      <th id=\"T_69f03_level0_col1\" class=\"col_heading level0 col1\" >mère</th>\n",
       "      <th id=\"T_69f03_level0_col2\" class=\"col_heading level0 col2\" >mademoiselle</th>\n",
       "      <th id=\"T_69f03_level0_col3\" class=\"col_heading level0 col3\" >dame</th>\n",
       "      <th id=\"T_69f03_level0_col4\" class=\"col_heading level0 col4\" >total</th>\n",
       "    </tr>\n",
       "    <tr>\n",
       "      <th class=\"index_name level0\" ></th>\n",
       "      <th class=\"blank col0\" >&nbsp;</th>\n",
       "      <th class=\"blank col1\" >&nbsp;</th>\n",
       "      <th class=\"blank col2\" >&nbsp;</th>\n",
       "      <th class=\"blank col3\" >&nbsp;</th>\n",
       "      <th class=\"blank col4\" >&nbsp;</th>\n",
       "    </tr>\n",
       "  </thead>\n",
       "  <tbody>\n",
       "    <tr>\n",
       "      <th id=\"T_69f03_level0_row0\" class=\"row_heading level0 row0\" >Eugénie Grandet</th>\n",
       "      <td id=\"T_69f03_row0_col0\" class=\"data row0 col0\" >0,93</td>\n",
       "      <td id=\"T_69f03_row0_col1\" class=\"data row0 col1\" >1,54</td>\n",
       "      <td id=\"T_69f03_row0_col2\" class=\"data row0 col2\" >0,91</td>\n",
       "      <td id=\"T_69f03_row0_col3\" class=\"data row0 col3\" >0,22</td>\n",
       "      <td id=\"T_69f03_row0_col4\" class=\"data row0 col4\" >1,25</td>\n",
       "    </tr>\n",
       "    <tr>\n",
       "      <th id=\"T_69f03_level0_row1\" class=\"row_heading level0 row1\" >Ursule Mirouët</th>\n",
       "      <td id=\"T_69f03_row1_col0\" class=\"data row1 col0\" >0,46</td>\n",
       "      <td id=\"T_69f03_row1_col1\" class=\"data row1 col1\" >0,92</td>\n",
       "      <td id=\"T_69f03_row1_col2\" class=\"data row1 col2\" >0,49</td>\n",
       "      <td id=\"T_69f03_row1_col3\" class=\"data row1 col3\" >0,46</td>\n",
       "      <td id=\"T_69f03_row1_col4\" class=\"data row1 col4\" >0,70</td>\n",
       "    </tr>\n",
       "    <tr>\n",
       "      <th id=\"T_69f03_level0_row2\" class=\"row_heading level0 row2\" >Vie parisienne</th>\n",
       "      <td id=\"T_69f03_row2_col0\" class=\"data row2 col0\" >0,34</td>\n",
       "      <td id=\"T_69f03_row2_col1\" class=\"data row2 col1\" >0,37</td>\n",
       "      <td id=\"T_69f03_row2_col2\" class=\"data row2 col2\" >0,24</td>\n",
       "      <td id=\"T_69f03_row2_col3\" class=\"data row2 col3\" >0,22</td>\n",
       "      <td id=\"T_69f03_row2_col4\" class=\"data row2 col4\" >0,34</td>\n",
       "    </tr>\n",
       "  </tbody>\n",
       "</table>\n"
      ],
      "text/plain": [
       "<pandas.io.formats.style.Styler at 0x2695733a550>"
      ]
     },
     "execution_count": 42,
     "metadata": {},
     "output_type": "execute_result"
    }
   ],
   "source": [
    "pretty_table(féminin, \"des personnages féminins\")"
   ]
  },
  {
   "cell_type": "markdown",
   "id": "5b70071a",
   "metadata": {},
   "source": [
    "Ensuite, nous pouvons montrer de manière graphique les nombres, avec des graphes en barre. "
   ]
  },
  {
   "cell_type": "code",
   "execution_count": 6,
   "id": "1563b2df",
   "metadata": {},
   "outputs": [],
   "source": [
    "from matplotlib import pyplot as plt\n",
    "def plot_bar(column, name, mini, maxi):\n",
    "    fig, ax = plt.subplots()\n",
    "    ax.bar(['Eugénie Grandet', 'Ursule Mirouët', 'Vie parisienne'], list(column),\n",
    "           width = 0.8, color=[\"darkorchid\", \"forestgreen\", \"silver\"])\n",
    "    ax.set_ylabel('indice', fontsize = 10)\n",
    "    ax.set_title(\"Comparaison \" + name, fontsize = 15)\n",
    "    ax.set_ylim([mini, maxi])\n",
    "    plt.show()"
   ]
  },
  {
   "cell_type": "code",
   "execution_count": 7,
   "id": "755737a8",
   "metadata": {},
   "outputs": [
    {
     "data": {
      "image/png": "[encoded data removed]",
      "text/plain": [
       "<Figure size 432x288 with 1 Axes>"
      ]
     },
     "metadata": {
      "needs_background": "light"
     },
     "output_type": "display_data"
    }
   ],
   "source": [
    "plot_bar(parole[\"total\"], \"de la quantité de parole\", 0.4, 0.7)"
   ]
  },
  {
   "cell_type": "markdown",
   "id": "2f5cc87f",
   "metadata": {},
   "source": [
    "On souhaite sauvegarder les figures ainsi obtenues."
   ]
  },
  {
   "cell_type": "code",
   "execution_count": 132,
   "id": "d9770572",
   "metadata": {},
   "outputs": [],
   "source": [
    "def save_plot(column, name, mini, maxi, docname, size = 15, EG=True):\n",
    "    fig, ax = plt.subplots()\n",
    "    if EG:\n",
    "        ax.bar(['Eugénie Grandet', 'Ursule Mirouët', 'Vie parisienne'], list(column),\n",
    "            width = 0.8, color=[\"darkorchid\", \"forestgreen\", \"silver\"])\n",
    "    else:\n",
    "        ax.bar(['Ursule Mirouët', 'Vie parisienne'], list(column)[1:],\n",
    "            width = 0.8, color=[\"forestgreen\", \"silver\"])\n",
    "    ax.set_ylabel('indice', fontsize = 10)\n",
    "    ax.set_title(\"Comparaison \" + name, fontsize = size)\n",
    "    ax.set_ylim([mini, maxi])\n",
    "    plt.savefig(\"./fig/\" + docname + \".png\", transparent = True, dpi = 300)"
   ]
  },
  {
   "cell_type": "code",
   "execution_count": 67,
   "id": "7545495a",
   "metadata": {},
   "outputs": [
    {
     "data": {
      "image/png": "[encoded data removed]",
      "text/plain": [
       "<Figure size 432x288 with 1 Axes>"
      ]
     },
     "metadata": {
      "needs_background": "light"
     },
     "output_type": "display_data"
    }
   ],
   "source": [
    "save_plot(parole[\"total\"], \"de la quantité de parole\", 0.4, 0.7, \"parole\")"
   ]
  },
  {
   "cell_type": "code",
   "execution_count": 25,
   "id": "079e8cff",
   "metadata": {},
   "outputs": [
    {
     "data": {
      "image/png": "[encoded data removed]",
      "text/plain": [
       "<Figure size 432x288 with 1 Axes>"
      ]
     },
     "metadata": {
      "needs_background": "light"
     },
     "output_type": "display_data"
    }
   ],
   "source": [
    "save_plot(argent[\"total\"], \"de l'apparition d'argent\", 0.15, 0.5, \"argent\")"
   ]
  },
  {
   "cell_type": "code",
   "execution_count": 27,
   "id": "6af80cbd",
   "metadata": {},
   "outputs": [
    {
     "data": {
      "image/png": "[encoded data removed]",
      "text/plain": [
       "<Figure size 432x288 with 1 Axes>"
      ]
     },
     "metadata": {
      "needs_background": "light"
     },
     "output_type": "display_data"
    }
   ],
   "source": [
    "save_plot(passivité[\"total\"], \"de la passivité\", 0.45, 0.8, \"passivité\")"
   ]
  },
  {
   "cell_type": "code",
   "execution_count": 156,
   "id": "bf8d726c",
   "metadata": {},
   "outputs": [
    {
     "data": {
      "image/png": "[encoded data removed]",
      "text/plain": [
       "<Figure size 432x288 with 1 Axes>"
      ]
     },
     "metadata": {
      "needs_background": "light"
     },
     "output_type": "display_data"
    }
   ],
   "source": [
    "save_plot(silence[\"total\"], \"du silence\", 0.25, 0.6, \"silence\")"
   ]
  },
  {
   "cell_type": "code",
   "execution_count": 34,
   "id": "d5b69a13",
   "metadata": {},
   "outputs": [
    {
     "data": {
      "image/png": "[encoded data removed]",
      "text/plain": [
       "<Figure size 432x288 with 1 Axes>"
      ]
     },
     "metadata": {
      "needs_background": "light"
     },
     "output_type": "display_data"
    }
   ],
   "source": [
    "save_plot(féminin[\"total\"], \"des figures féminines\", 0.3, 1.3, \"feminin\")"
   ]
  },
  {
   "cell_type": "code",
   "execution_count": 36,
   "id": "b042e99b",
   "metadata": {},
   "outputs": [
    {
     "data": {
      "image/png": "[encoded data removed]",
      "text/plain": [
       "<Figure size 432x288 with 1 Axes>"
      ]
     },
     "metadata": {
      "needs_background": "light"
     },
     "output_type": "display_data"
    }
   ],
   "source": [
    "save_plot(sentiment[\"total\"], \"des sentiments\", 0.35, 0.45, \"sentiment\")"
   ]
  },
  {
   "cell_type": "code",
   "execution_count": 40,
   "id": "76e4fc66",
   "metadata": {},
   "outputs": [
    {
     "data": {
      "image/png": "[encoded data removed]",
      "text/plain": [
       "<Figure size 432x288 with 1 Axes>"
      ]
     },
     "metadata": {
      "needs_background": "light"
     },
     "output_type": "display_data"
    }
   ],
   "source": [
    "save_plot(privé[\"total\"], \"de la vie privée\", 0.55, 1.15, \"prive\")"
   ]
  },
  {
   "cell_type": "code",
   "execution_count": 47,
   "id": "5a0ed03d",
   "metadata": {},
   "outputs": [
    {
     "data": {
      "image/png": "[encoded data removed]",
      "text/plain": [
       "<Figure size 432x288 with 1 Axes>"
      ]
     },
     "metadata": {
      "needs_background": "light"
     },
     "output_type": "display_data"
    }
   ],
   "source": [
    "save_plot(patriarcat[\"total\"], \"des figures patriarcales\", 0.45, 1.3, \"patriarcat\")"
   ]
  },
  {
   "cell_type": "code",
   "execution_count": 140,
   "id": "7f35d732",
   "metadata": {},
   "outputs": [
    {
     "data": {
      "image/png": "[encoded data removed]",
      "text/plain": [
       "<Figure size 432x288 with 1 Axes>"
      ]
     },
     "metadata": {
      "needs_background": "light"
     },
     "output_type": "display_data"
    }
   ],
   "source": [
    "save_plot(religion[\"total\"], \"de la quantité de religion\", 0.4, 1.05, \"religion\")"
   ]
  },
  {
   "cell_type": "code",
   "execution_count": 139,
   "id": "2c5d36a4",
   "metadata": {},
   "outputs": [
    {
     "data": {
      "image/png": "[encoded data removed]",
      "text/plain": [
       "<Figure size 432x288 with 1 Axes>"
      ]
     },
     "metadata": {
      "needs_background": "light"
     },
     "output_type": "display_data"
    }
   ],
   "source": [
    "save_plot(religion[\"total\"], \"de la quantité de religion\", 0.4, 1.05, \"religion2\", 15, False)"
   ]
  },
  {
   "cell_type": "code",
   "execution_count": 71,
   "id": "e1b0be79",
   "metadata": {},
   "outputs": [
    {
     "data": {
      "image/png": "[encoded data removed]",
      "text/plain": [
       "<Figure size 432x288 with 1 Axes>"
      ]
     },
     "metadata": {
      "needs_background": "light"
     },
     "output_type": "display_data"
    }
   ],
   "source": [
    "save_plot(parole[\"entendre\"], 'des fréquences du mot \"entendre\"', 0.3, 0.75, \"entendre\", 13)"
   ]
  },
  {
   "cell_type": "code",
   "execution_count": 74,
   "id": "afdcb05a",
   "metadata": {},
   "outputs": [
    {
     "data": {
      "image/png": "[encoded data removed]",
      "text/plain": [
       "<Figure size 432x288 with 1 Axes>"
      ]
     },
     "metadata": {
      "needs_background": "light"
     },
     "output_type": "display_data"
    }
   ],
   "source": [
    "save_plot(parole[\"rumeur\"], 'des fréquences du mot \"rumeur\"', 0, 0.25, \"rumeur\", 14)"
   ]
  },
  {
   "cell_type": "code",
   "execution_count": 77,
   "id": "8bf96307",
   "metadata": {},
   "outputs": [
    {
     "data": {
      "image/png": "[encoded data removed]",
      "text/plain": [
       "<Figure size 432x288 with 1 Axes>"
      ]
     },
     "metadata": {
      "needs_background": "light"
     },
     "output_type": "display_data"
    }
   ],
   "source": [
    "save_plot(parole[\"lettre\"], 'des fréquences du mot \"lettre\"', 0.3, 0.75, \"lettre\", 14)"
   ]
  },
  {
   "cell_type": "code",
   "execution_count": 97,
   "id": "5f0fd6e8",
   "metadata": {},
   "outputs": [
    {
     "data": {
      "image/png": "[encoded data removed]",
      "text/plain": [
       "<Figure size 432x288 with 1 Axes>"
      ]
     },
     "metadata": {
      "needs_background": "light"
     },
     "output_type": "display_data"
    }
   ],
   "source": [
    "save_plot(parole[\"bavard\"], 'des fréquences du mot \"bavard\"', 0, 0.25, \"bavard\", 14)"
   ]
  },
  {
   "cell_type": "code",
   "execution_count": 96,
   "id": "c300713f",
   "metadata": {},
   "outputs": [
    {
     "data": {
      "image/png": "[encoded data removed]",
      "text/plain": [
       "<Figure size 432x288 with 1 Axes>"
      ]
     },
     "metadata": {
      "needs_background": "light"
     },
     "output_type": "display_data"
    }
   ],
   "source": [
    "save_plot(passivité[\"penser\"], 'des fréquences du mot \"penser\"', 0.45, 1.05, \"penser\", 14)"
   ]
  },
  {
   "cell_type": "code",
   "execution_count": 90,
   "id": "76463f48",
   "metadata": {},
   "outputs": [
    {
     "data": {
      "image/png": "[encoded data removed]",
      "text/plain": [
       "<Figure size 432x288 with 1 Axes>"
      ]
     },
     "metadata": {
      "needs_background": "light"
     },
     "output_type": "display_data"
    }
   ],
   "source": [
    "save_plot(passivité[\"regarder\"], 'des fréquences des mots \"regarder\" et \"regard\"', 0.5, 0.8, \"regarder\", 10)"
   ]
  },
  {
   "cell_type": "code",
   "execution_count": 155,
   "id": "465c687f",
   "metadata": {},
   "outputs": [
    {
     "data": {
      "image/png": "[encoded data removed]",
      "text/plain": [
       "<Figure size 432x288 with 1 Axes>"
      ]
     },
     "metadata": {
      "needs_background": "light"
     },
     "output_type": "display_data"
    }
   ],
   "source": [
    "save_plot(silence[\"silence\"], 'des fréquences des mots \"silence\" et \"silencieux\"', 0.3, 0.5, \"silencieux\", 10)"
   ]
  },
  {
   "cell_type": "code",
   "execution_count": 100,
   "id": "7bb38d56",
   "metadata": {},
   "outputs": [
    {
     "data": {
      "image/png": "[encoded data removed]",
      "text/plain": [
       "<Figure size 432x288 with 1 Axes>"
      ]
     },
     "metadata": {
      "needs_background": "light"
     },
     "output_type": "display_data"
    }
   ],
   "source": [
    "save_plot(silence[\"secret\"], 'des fréquences du mot \"secret\"', 0.3, 0.45, \"secret\", 14)"
   ]
  },
  {
   "cell_type": "code",
   "execution_count": 105,
   "id": "ee7313c9",
   "metadata": {},
   "outputs": [
    {
     "data": {
      "image/png": "[encoded data removed]",
      "text/plain": [
       "<Figure size 432x288 with 1 Axes>"
      ]
     },
     "metadata": {
      "needs_background": "light"
     },
     "output_type": "display_data"
    }
   ],
   "source": [
    "save_plot(silence[\"taire\"], 'des fréquences du mot \"taire\"', 0.1, 0.6, \"taire\", 14)"
   ]
  },
  {
   "cell_type": "code",
   "execution_count": 113,
   "id": "5323c73a",
   "metadata": {},
   "outputs": [
    {
     "data": {
      "image/png": "[encoded data removed]",
      "text/plain": [
       "<Figure size 432x288 with 1 Axes>"
      ]
     },
     "metadata": {
      "needs_background": "light"
     },
     "output_type": "display_data"
    }
   ],
   "source": [
    "save_plot(silence[\"muet\"], 'des fréquences du mot \"muet\"', 0, 1.3, \"muet\", 14)"
   ]
  },
  {
   "cell_type": "code",
   "execution_count": 115,
   "id": "281db544",
   "metadata": {},
   "outputs": [
    {
     "data": {
      "image/png": "[encoded data removed]",
      "text/plain": [
       "<Figure size 432x288 with 1 Axes>"
      ]
     },
     "metadata": {
      "needs_background": "light"
     },
     "output_type": "display_data"
    }
   ],
   "source": [
    "save_plot(silence[\"doucement\"], 'des fréquences du mot \"doucement\"', 0.35, 0.65, \"doucement\", 13)"
   ]
  },
  {
   "cell_type": "code",
   "execution_count": 120,
   "id": "5fa9437a",
   "metadata": {},
   "outputs": [
    {
     "data": {
      "image/png": "[encoded data removed]",
      "text/plain": [
       "<Figure size 432x288 with 1 Axes>"
      ]
     },
     "metadata": {
      "needs_background": "light"
     },
     "output_type": "display_data"
    }
   ],
   "source": [
    "save_plot(féminin[\"fille\"], 'des fréquences du mot \"fille\"', 0.3, 0.95, \"fille\", 14)"
   ]
  },
  {
   "cell_type": "code",
   "execution_count": 145,
   "id": "2eefbf23",
   "metadata": {},
   "outputs": [
    {
     "data": {
      "image/png": "[encoded data removed]",
      "text/plain": [
       "<Figure size 432x288 with 1 Axes>"
      ]
     },
     "metadata": {
      "needs_background": "light"
     },
     "output_type": "display_data"
    }
   ],
   "source": [
    "save_plot(féminin[\"mère\"], 'des fréquences du mot \"mère\"', 0.35, 1.55, \"mere\", 14)"
   ]
  },
  {
   "cell_type": "code",
   "execution_count": 147,
   "id": "fb5d84c2",
   "metadata": {},
   "outputs": [
    {
     "data": {
      "image/png": "[encoded data removed]",
      "text/plain": [
       "<Figure size 432x288 with 1 Axes>"
      ]
     },
     "metadata": {
      "needs_background": "light"
     },
     "output_type": "display_data"
    }
   ],
   "source": [
    "save_plot(patriarcat[\"homme\"], 'des fréquences du mot \"homme\"', 0, 0.4, \"homme\", 13)"
   ]
  },
  {
   "cell_type": "code",
   "execution_count": 154,
   "id": "aeb500d2",
   "metadata": {},
   "outputs": [
    {
     "data": {
      "image/png": "[encoded data removed]",
      "text/plain": [
       "<Figure size 432x288 with 1 Axes>"
      ]
     },
     "metadata": {
      "needs_background": "light"
     },
     "output_type": "display_data"
    }
   ],
   "source": [
    "save_plot((patriarcat[\"père\"] + patriarcat[\"fils\"])/2, 'des fréquences du mot \"père\" et \"fils\"', 0.3, 1.25, \"pere\", 13)"
   ]
  }],
 "metadata": {
  "kernelspec": {
   "display_name": "balzac",
   "language": "python",
   "name": "balzac"
  },
  "language_info": {
   "codemirror_mode": {
    "name": "ipython",
    "version": 3
   },
   "file_extension": ".py",
   "mimetype": "text/x-python",
   "name": "python",
   "nbconvert_exporter": "python",
   "pygments_lexer": "ipython3",
   "version": "3.11.5"
  }
 },
 "nbformat": 4,
 "nbformat_minor": 5
}
